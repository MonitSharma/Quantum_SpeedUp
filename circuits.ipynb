{
 "cells": [
  {
   "cell_type": "code",
   "execution_count": 1,
   "id": "0b9e34fe-bc16-43a4-80ac-fe5ee92c6530",
   "metadata": {},
   "outputs": [],
   "source": [
    "import numpy as np\n",
    "\n",
    "# Importing standard Qiskit libraries\n",
    "from qiskit import *\n",
    "from qiskit import QuantumCircuit, transpile, Aer, IBMQ\n",
    "from qiskit.tools.jupyter import *\n",
    "from qiskit.visualization import *\n",
    "from ibm_quantum_widgets import *\n",
    "from qiskit.providers.aer import QasmSimulator\n",
    "\n",
    "# Loading your IBM Quantum account(s)\n",
    "provider = IBMQ.load_account()\n"
   ]
  },
  {
   "cell_type": "code",
   "execution_count": 7,
   "id": "5f5d09fc-dbfa-42e6-a07d-3146282f8c03",
   "metadata": {},
   "outputs": [
    {
     "data": {
      "image/png": "[encoded data removed]",
      "text/plain": [
       "<Figure size 447.652x204.68 with 1 Axes>"
      ]
     },
     "execution_count": 7,
     "metadata": {},
     "output_type": "execute_result"
    }
   ],
   "source": [
    "circ = QuantumCircuit(2,2)\n",
    "circ.h(0)\n",
    "circ.cx(0,1)\n",
    "circ.barrier()\n",
    "# if they get |00>\n",
    "circ.ry(0,0)\n",
    "circ.ry(np.pi/4, 1)\n",
    "\n",
    "\n",
    "circ.measure(range(2), range(2))\n",
    "circ.draw('mpl')"
   ]
  },
  {
   "cell_type": "code",
   "execution_count": 5,
   "id": "5c3053ad-8335-4471-8733-ab60e857961f",
   "metadata": {},
   "outputs": [
    {
     "data": {
      "image/png": "[encoded data removed]",
      "text/plain": [
       "<Figure size 387.452x204.68 with 1 Axes>"
      ]
     },
     "execution_count": 5,
     "metadata": {},
     "output_type": "execute_result"
    }
   ],
   "source": []
  },
  {
   "cell_type": "code",
   "execution_count": null,
   "id": "615f7803-06bc-4948-95b6-ba802f8904e7",
   "metadata": {},
   "outputs": [],
   "source": [
    "# if they gets |11>\n",
    "circ1 = QuantumCircuit(2,2)\n",
    "\n",
    "circ1.h(0)\n",
    "circ1.cx(0,1)\n",
    "circ1.barrier()\n",
    "# if they get |00>\n",
    "circ1.ry(np.pi/2,0)\n",
    "circ1.ry(-np.pi/4,1)\n",
    "circ.measure(range(2),range(2))\n"
   ]
  }
 ],
 "metadata": {
  "kernelspec": {
   "display_name": "Qiskit v0.29.0",
   "language": "python",
   "name": "python3"
  },
  "language_info": {
   "codemirror_mode": {
    "name": "ipython",
    "version": 3
   },
   "file_extension": ".py",
   "mimetype": "text/x-python",
   "name": "python",
   "nbconvert_exporter": "python",
   "pygments_lexer": "ipython3",
   "version": "3.8.10"
  },
  "widgets": {
   "application/vnd.jupyter.widget-state+json": {
    "state": {
     "104db373d7504e5d80d8a8a084946590": {
      "model_module": "@jupyter-widgets/base",
      "model_module_version": "1.2.0",
      "model_name": "LayoutModel",
      "state": {
       "grid_area": "right",
       "padding": "0px 0px 0px 0px",
       "width": "70px"
      }
     },
     "18199e6e2eb746d2aa6d22379ba804bb": {
      "model_module": "@jupyter-widgets/base",
      "model_module_version": "1.2.0",
      "model_name": "LayoutModel",
      "state": {
       "width": "145px"
      }
     },
     "203741236b9746d09a876722cb04ddf1": {
      "model_module": "@jupyter-widgets/controls",
      "model_module_version": "1.5.0",
      "model_name": "DescriptionStyleModel",
      "state": {
       "description_width": ""
      }
     },
     "2606b7372f0149e5b0f1839822c8156e": {
      "model_module": "@jupyter-widgets/controls",
      "model_module_version": "1.5.0",
      "model_name": "DescriptionStyleModel",
      "state": {
       "description_width": ""
      }
     },
     "346d9cb65e7f4e7c963f5f3ea4cbc07c": {
      "model_module": "@jupyter-widgets/controls",
      "model_module_version": "1.5.0",
      "model_name": "HTMLModel",
      "state": {
       "layout": "IPY_MODEL_d2b4f00dfea1472984bac07350eaada0",
       "style": "IPY_MODEL_8169d69b47fd4c5385dc51b2f8862422",
       "value": "<h5>Queue</h5>"
      }
     },
     "3e189fcde6414fd39ff1eb9defa4ded5": {
      "model_module": "@jupyter-widgets/base",
      "model_module_version": "1.2.0",
      "model_name": "LayoutModel",
      "state": {
       "grid_template_areas": "\n                                       \". . . . right \"\n                                        ",
       "grid_template_columns": "20% 20% 20% 20% 20%",
       "width": "100%"
      }
     },
     "456a7d81f1fa4275a14e8fe242dd7e58": {
      "model_module": "@jupyter-widgets/base",
      "model_module_version": "1.2.0",
      "model_name": "LayoutModel",
      "state": {
       "margin": "0px 0px 0px 37px",
       "width": "600px"
      }
     },
     "5c2858da82b4481e9e740d65f9f1ed8d": {
      "model_module": "@jupyter-widgets/base",
      "model_module_version": "1.2.0",
      "model_name": "LayoutModel",
      "state": {
       "width": "95px"
      }
     },
     "6d7ea62649874b22a5e86d6af504b7be": {
      "model_module": "@jupyter-widgets/base",
      "model_module_version": "1.2.0",
      "model_name": "LayoutModel",
      "state": {
       "margin": "0px 0px 10px 0px"
      }
     },
     "8169d69b47fd4c5385dc51b2f8862422": {
      "model_module": "@jupyter-widgets/controls",
      "model_module_version": "1.5.0",
      "model_name": "DescriptionStyleModel",
      "state": {
       "description_width": ""
      }
     },
     "84af481caede450f8d2c882e7e6a8ac4": {
      "model_module": "@jupyter-widgets/controls",
      "model_module_version": "1.5.0",
      "model_name": "HTMLModel",
      "state": {
       "layout": "IPY_MODEL_18199e6e2eb746d2aa6d22379ba804bb",
       "style": "IPY_MODEL_2606b7372f0149e5b0f1839822c8156e",
       "value": "<h5>Backend</h5>"
      }
     },
     "89bd5f45bbfa46238a2bf150f5631432": {
      "model_module": "@jupyter-widgets/controls",
      "model_module_version": "1.5.0",
      "model_name": "DescriptionStyleModel",
      "state": {
       "description_width": ""
      }
     },
     "911bb13caf1545b19139a9cba2e8682a": {
      "model_module": "@jupyter-widgets/controls",
      "model_module_version": "1.5.0",
      "model_name": "ButtonModel",
      "state": {
       "button_style": "primary",
       "description": "Clear",
       "layout": "IPY_MODEL_104db373d7504e5d80d8a8a084946590",
       "style": "IPY_MODEL_eed20c00c9f8460688f167e49d801d33"
      }
     },
     "969daa2ceea54d4781c634cc4b8296ff": {
      "model_module": "@jupyter-widgets/base",
      "model_module_version": "1.2.0",
      "model_name": "LayoutModel",
      "state": {}
     },
     "99c85f6027a548a8bb44f7a471534f23": {
      "model_module": "@jupyter-widgets/controls",
      "model_module_version": "1.5.0",
      "model_name": "HTMLModel",
      "state": {
       "layout": "IPY_MODEL_6d7ea62649874b22a5e86d6af504b7be",
       "style": "IPY_MODEL_c7993ceb38014e9b8cbaba4fa0240b67",
       "value": "<p style='font-family: IBM Plex Sans, Arial, Helvetica, sans-serif; font-size: 20px; font-weight: medium;'>Circuit Properties</p>"
      }
     },
     "9fabb1f05d564dca81777b2808371de1": {
      "model_module": "@jupyter-widgets/controls",
      "model_module_version": "1.5.0",
      "model_name": "HTMLModel",
      "state": {
       "layout": "IPY_MODEL_5c2858da82b4481e9e740d65f9f1ed8d",
       "style": "IPY_MODEL_89bd5f45bbfa46238a2bf150f5631432",
       "value": "<h5>Status</h5>"
      }
     },
     "aaa71ea35ede468da5e8e36094ac7dbb": {
      "model_module": "@jupyter-widgets/controls",
      "model_module_version": "1.5.0",
      "model_name": "GridBoxModel",
      "state": {
       "children": [
        "IPY_MODEL_911bb13caf1545b19139a9cba2e8682a"
       ],
       "layout": "IPY_MODEL_3e189fcde6414fd39ff1eb9defa4ded5"
      }
     },
     "ae7c586d12a04d319fb5acf649265a1e": {
      "model_module": "@jupyter-widgets/controls",
      "model_module_version": "1.5.0",
      "model_name": "HTMLModel",
      "state": {
       "layout": "IPY_MODEL_dc8361957f6a4de2a781dde89ce974d9",
       "style": "IPY_MODEL_c0b640dc2eb3417990d0cd1dc9517a27",
       "value": "<h5>Job ID</h5>"
      }
     },
     "c0b640dc2eb3417990d0cd1dc9517a27": {
      "model_module": "@jupyter-widgets/controls",
      "model_module_version": "1.5.0",
      "model_name": "DescriptionStyleModel",
      "state": {
       "description_width": ""
      }
     },
     "c7993ceb38014e9b8cbaba4fa0240b67": {
      "model_module": "@jupyter-widgets/controls",
      "model_module_version": "1.5.0",
      "model_name": "DescriptionStyleModel",
      "state": {
       "description_width": ""
      }
     },
     "d2b4f00dfea1472984bac07350eaada0": {
      "model_module": "@jupyter-widgets/base",
      "model_module_version": "1.2.0",
      "model_name": "LayoutModel",
      "state": {
       "width": "70px"
      }
     },
     "dc8361957f6a4de2a781dde89ce974d9": {
      "model_module": "@jupyter-widgets/base",
      "model_module_version": "1.2.0",
      "model_name": "LayoutModel",
      "state": {
       "width": "190px"
      }
     },
     "de20a3505b914fb09968bd02e05641ce": {
      "model_module": "@jupyter-widgets/controls",
      "model_module_version": "1.5.0",
      "model_name": "HBoxModel",
      "state": {
       "children": [
        "IPY_MODEL_ae7c586d12a04d319fb5acf649265a1e",
        "IPY_MODEL_84af481caede450f8d2c882e7e6a8ac4",
        "IPY_MODEL_9fabb1f05d564dca81777b2808371de1",
        "IPY_MODEL_346d9cb65e7f4e7c963f5f3ea4cbc07c",
        "IPY_MODEL_fac9b279d8eb4ba5bba0bf5fb3cca7a1"
       ],
       "layout": "IPY_MODEL_456a7d81f1fa4275a14e8fe242dd7e58"
      }
     },
     "eed20c00c9f8460688f167e49d801d33": {
      "model_module": "@jupyter-widgets/controls",
      "model_module_version": "1.5.0",
      "model_name": "ButtonStyleModel",
      "state": {}
     },
     "fac9b279d8eb4ba5bba0bf5fb3cca7a1": {
      "model_module": "@jupyter-widgets/controls",
      "model_module_version": "1.5.0",
      "model_name": "HTMLModel",
      "state": {
       "layout": "IPY_MODEL_969daa2ceea54d4781c634cc4b8296ff",
       "style": "IPY_MODEL_203741236b9746d09a876722cb04ddf1",
       "value": "<h5>Message</h5>"
      }
     }
    },
    "version_major": 2,
    "version_minor": 0
   }
  }
 },
 "nbformat": 4,
 "nbformat_minor": 5
}
