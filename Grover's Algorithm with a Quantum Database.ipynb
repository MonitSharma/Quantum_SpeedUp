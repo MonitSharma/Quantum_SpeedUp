{
 "cells": [
  {
   "cell_type": "code",
   "execution_count": 76,
   "id": "4c44ac33",
   "metadata": {},
   "outputs": [
    {
     "name": "stderr",
     "output_type": "stream",
     "text": [
      "ibmqfactory.load_account:WARNING:2021-07-26 13:21:17,230: Credentials are already in use. The existing account in the session will be replaced.\n"
     ]
    }
   ],
   "source": [
    "import numpy as np\n",
    "# Importing standard Qiskit libraries\n",
    "from qiskit import QuantumCircuit, transpile, Aer, IBMQ, execute\n",
    "from qiskit.tools.jupyter import *\n",
    "from qiskit.visualization import *\n",
    "from ibm_quantum_widgets import *\n",
    "\n",
    "# Loading your IBM Quantum account(s)\n",
    "provider = IBMQ.load_account()"
   ]
  },
  {
   "cell_type": "code",
   "execution_count": 77,
   "id": "7a9dca4b",
   "metadata": {},
   "outputs": [],
   "source": [
    "from qiskit.visualization import plot_histogram\n",
    "from numpy import random\n"
   ]
  },
  {
   "cell_type": "code",
   "execution_count": 78,
   "id": "3d47f5e9",
   "metadata": {},
   "outputs": [],
   "source": [
    "# the database\n",
    "color_codes = [0,1,2,3]\n",
    "random.shuffle(color_codes)\n",
    "database = {}\n",
    "for i in range(4):\n",
    "    database[i] = color_codes[i]"
   ]
  },
  {
   "cell_type": "code",
   "execution_count": 79,
   "id": "d0c6c5f9",
   "metadata": {},
   "outputs": [
    {
     "name": "stdout",
     "output_type": "stream",
     "text": [
      "{0: 0, 1: 2, 2: 1, 3: 3}\n"
     ]
    }
   ],
   "source": [
    "print(database)"
   ]
  },
  {
   "cell_type": "code",
   "execution_count": 80,
   "id": "3071b594",
   "metadata": {},
   "outputs": [],
   "source": [
    "# the color code we are looking for, like we are looking for orange-10\n",
    "desired_color_code = 2"
   ]
  },
  {
   "cell_type": "code",
   "execution_count": 81,
   "id": "90a667d2",
   "metadata": {},
   "outputs": [],
   "source": [
    "#this oracle has the data base\n",
    "DB = QuantumCircuit(5)"
   ]
  },
  {
   "cell_type": "code",
   "execution_count": 82,
   "id": "45a5ebe7",
   "metadata": {},
   "outputs": [],
   "source": [
    "def DB_function(QC, color_code):\n",
    "    if color_code == 1:\n",
    "        QC.ccx(0,1,3)\n",
    "    elif color_code == 2:\n",
    "        QC.ccx(0,1,2)\n",
    "    elif color_code == 3:\n",
    "        QC.ccx(0,1,3)\n",
    "        QC.ccx(0,1,2)\n",
    "        "
   ]
  },
  {
   "cell_type": "code",
   "execution_count": 95,
   "id": "6210c482",
   "metadata": {},
   "outputs": [
    {
     "data": {
      "text/plain": [
       "<qiskit.circuit.instructionset.InstructionSet at 0x7f5d66381e50>"
      ]
     },
     "execution_count": 95,
     "metadata": {},
     "output_type": "execute_result"
    }
   ],
   "source": [
    "DB.x(0)\n",
    "DB.x(1)\n",
    "DB_function(DB,database[0])\n",
    "DB.x(0)\n",
    "DB.x(1)\n",
    "DB.barrier()\n",
    "DB.x(0)\n",
    "#DB.x(1)\n",
    "DB_function(DB,database[1])\n",
    "DB.x(0)\n",
    "#DB.x(1)\n",
    "DB.barrier()\n",
    "\n",
    "#DB.x(0)\n",
    "DB.x(1)\n",
    "DB_function(DB,database[2])\n",
    "#DB.x(0)\n",
    "DB.x(1)\n",
    "DB.barrier()\n",
    "\n",
    "DB_function(DB,database[3])\n",
    "DB.barrier()"
   ]
  },
  {
   "cell_type": "code",
   "execution_count": 96,
   "id": "9e0fe4c0",
   "metadata": {},
   "outputs": [
    {
     "data": {
      "text/plain": [
       "<qiskit.circuit.instructionset.InstructionSet at 0x7f5d66387040>"
      ]
     },
     "execution_count": 96,
     "metadata": {},
     "output_type": "execute_result"
    }
   ],
   "source": [
    "MG = QuantumCircuit(5)\n",
    "if desired_color_code == 0:\n",
    "    MG.x(2)\n",
    "    MG.x(3)\n",
    "    MG.ccx(2,3,4)\n",
    "    MG.x(2)\n",
    "    MG.x(3)\n",
    "elif desired_color_code == 1:\n",
    "    MG.x(2)\n",
    "    MG.ccx(2,3,4)\n",
    "    MG.x(2)\n",
    "elif desired_color_code == 2:\n",
    "    MG.x(3)\n",
    "    MG.ccx(2,3,4)\n",
    "    MG.x(3)\n",
    "elif desired_color_code == 3:\n",
    "    MG.ccx(2,3,4)\n",
    "    \n",
    "MG.barrier()"
   ]
  },
  {
   "cell_type": "code",
   "execution_count": 85,
   "id": "3a553bac",
   "metadata": {},
   "outputs": [],
   "source": [
    "oracle = QuantumCircuit(5)\n",
    "oracle = oracle + DB+MG +DB"
   ]
  },
  {
   "cell_type": "code",
   "execution_count": 97,
   "id": "6c3a48ec",
   "metadata": {},
   "outputs": [
    {
     "data": {
      "text/plain": [
       "<qiskit.circuit.instructionset.InstructionSet at 0x7f5d66381790>"
      ]
     },
     "execution_count": 97,
     "metadata": {},
     "output_type": "execute_result"
    }
   ],
   "source": [
    "phase = QuantumCircuit(5)\n",
    "phase.x(0)\n",
    "phase.x(1)\n",
    "phase.h(1)\n",
    "phase.cx(0,1)\n",
    "phase.h(1)\n",
    "phase.x(0)\n",
    "phase.x(1)\n",
    "\n",
    "\n",
    "phase.barrier()"
   ]
  },
  {
   "cell_type": "code",
   "execution_count": 98,
   "id": "037269b8",
   "metadata": {},
   "outputs": [
    {
     "data": {
      "text/plain": [
       "<qiskit.circuit.instructionset.InstructionSet at 0x7f5d663815b0>"
      ]
     },
     "execution_count": 98,
     "metadata": {},
     "output_type": "execute_result"
    }
   ],
   "source": [
    "Grover = QuantumCircuit(5)\n",
    "Grover = Grover + oracle\n",
    "Grover.h(0)\n",
    "Grover.h(1)\n",
    "\n",
    "Grover = Grover+phase\n",
    "\n",
    "Grover.h(0)\n",
    "Grover.h(1)\n",
    "Grover.barrier()"
   ]
  },
  {
   "cell_type": "code",
   "execution_count": 100,
   "id": "ff4fefe9",
   "metadata": {},
   "outputs": [],
   "source": [
    "circuit = QuantumCircuit(5,2)"
   ]
  },
  {
   "cell_type": "code",
   "execution_count": 101,
   "id": "c0e9424f",
   "metadata": {},
   "outputs": [
    {
     "data": {
      "text/plain": [
       "<qiskit.circuit.instructionset.InstructionSet at 0x7f5d663ff730>"
      ]
     },
     "execution_count": 101,
     "metadata": {},
     "output_type": "execute_result"
    }
   ],
   "source": [
    "circuit.x(4)\n",
    "circuit.h(0)\n",
    "circuit.h(1)\n",
    "circuit.h(4)\n",
    "circuit = circuit+ Grover\n",
    "circuit.measure(0,1)\n",
    "circuit.measure(1,0)"
   ]
  },
  {
   "cell_type": "code",
   "execution_count": 102,
   "id": "d52972cc",
   "metadata": {},
   "outputs": [],
   "source": [
    "sim = Aer.get_backend('qasm_simulator')\n",
    "results = execute(circuit,sim,shots=1000)\n",
    "counts = results.result().get_counts()"
   ]
  },
  {
   "cell_type": "code",
   "execution_count": 103,
   "id": "b6d8a923",
   "metadata": {},
   "outputs": [
    {
     "data": {
      "image/png": "[encoded data removed]",
      "text/plain": [
       "<Figure size 504x360 with 1 Axes>"
      ]
     },
     "execution_count": 103,
     "metadata": {},
     "output_type": "execute_result"
    }
   ],
   "source": [
    "plot_histogram(counts)"
   ]
  },
  {
   "cell_type": "code",
   "execution_count": 104,
   "id": "dc670098",
   "metadata": {},
   "outputs": [
    {
     "data": {
      "image/png": "[encoded data removed]",
      "text/plain": [
       "<Figure size 1591.6x806.68 with 1 Axes>"
      ]
     },
     "metadata": {},
     "output_type": "display_data"
    }
   ],
   "source": [
    "display(circuit.draw('mpl'))   "
   ]
  },
  {
   "cell_type": "code",
   "execution_count": null,
   "id": "e2592ee3",
   "metadata": {},
   "outputs": [],
   "source": []
  }
 ],
 "metadata": {
  "kernelspec": {
   "display_name": "Python 3",
   "language": "python",
   "name": "python3"
  },
  "language_info": {
   "codemirror_mode": {
    "name": "ipython",
    "version": 3
   },
   "file_extension": ".py",
   "mimetype": "text/x-python",
   "name": "python",
   "nbconvert_exporter": "python",
   "pygments_lexer": "ipython3",
   "version": "3.8.10"
  }
 },
 "nbformat": 4,
 "nbformat_minor": 5
}
