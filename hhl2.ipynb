{
 "cells": [
  {
   "cell_type": "code",
   "execution_count": 1,
   "id": "0eee962d-2220-48ff-abec-aff2869b1814",
   "metadata": {},
   "outputs": [],
   "source": [
    "import numpy as np\n",
    "from qiskit.algorithms.linear_solvers.numpy_linear_solver import NumPyLinearSolver\n",
    "from qiskit.algorithms.linear_solvers.hhl import HHL"
   ]
  },
  {
   "cell_type": "code",
   "execution_count": 2,
   "id": "5246269b-b941-446d-a630-990a75248084",
   "metadata": {},
   "outputs": [],
   "source": [
    "# 2 unknown\n",
    "matrix = np.array([[1.5, 0.5],[0.5, 1.5]])\n",
    "\n",
    "\n",
    "vector = np.array([1,0])"
   ]
  },
  {
   "cell_type": "code",
   "execution_count": 3,
   "id": "6b5ba780-1d67-47c5-b88d-3c280e51bad5",
   "metadata": {},
   "outputs": [],
   "source": [
    "hhl = HHL().solve(matrix,vector)"
   ]
  },
  {
   "cell_type": "markdown",
   "id": "01823713-0313-4a36-9cb1-42fd6a755611",
   "metadata": {},
   "source": [
    "## Classical Method\n",
    "For the classical solver we need to rescale the right hand side (i.e. vector / np.linalg.norm(vector)) to take into account the renormalisation that occurs once vector is encoded in a quantum state within HHL."
   ]
  },
  {
   "cell_type": "code",
   "execution_count": 4,
   "id": "51f408f8-5d98-42b4-bd2a-18a6c8560eee",
   "metadata": {},
   "outputs": [],
   "source": [
    "classical = NumPyLinearSolver().solve(matrix, vector/ np.linalg.norm(vector))"
   ]
  },
  {
   "cell_type": "markdown",
   "id": "a4212fa1-7bb2-4347-a81e-b1f3fc7fcf01",
   "metadata": {},
   "source": [
    " HHL algorithm can find a solution exponentially faster in the size of the system than their classical counterparts (i.e. logarithmic complexity instead of polynomial). However the cost for this exponential speedup is that we do not obtain the full solution vector. Instead, we obtain a quantum state representing the vector  \n",
    "x\n",
    "  and learning all the components of this vector would take a linear time in its dimension, diminishing any speedup obtained by the quantum algorithm.\n",
    "\n",
    "Therefore, we can only compute functions from  \n",
    "x\n",
    "  (the so called observables) to learn information about the solution. This is reflected in the LinearSolverResult object returned by solve(), which contains the following properties\n",
    "\n",
    "<li>state: either the circuit that prepares the solution or the solution as a vector\n",
    "<li>euclidean_norm: the euclidean norm if the algorithm knows how to calculate it\n",
    "<li>observable: the (list of) calculated observable(s)\n",
    "<li>circuit_results: the observable results from the (list of) circuit(s)"
   ]
  },
  {
   "cell_type": "code",
   "execution_count": 5,
   "id": "5aa62438-d7bf-4a84-b156-675e36e3c2fb",
   "metadata": {},
   "outputs": [
    {
     "name": "stdout",
     "output_type": "stream",
     "text": [
      "Classical Way [ 0.75 -0.25]\n"
     ]
    }
   ],
   "source": [
    "# the classical soln will return an array\n",
    "print(\"Classical Way\", classical.state)"
   ]
  },
  {
   "cell_type": "code",
   "execution_count": 6,
   "id": "ad9acb69-9e71-429a-9ae8-1ab730bcc75e",
   "metadata": {},
   "outputs": [
    {
     "name": "stdout",
     "output_type": "stream",
     "text": [
      "Quantum Way       ┌───────────┐┌──────┐        ┌─────────┐\n",
      "q0_0: ┤ circuit-7 ├┤2     ├────────┤2        ├\n",
      "      └───────────┘│      │┌──────┐│         │\n",
      "q1_0: ─────────────┤0 QPE ├┤1     ├┤0 QPE_dg ├\n",
      "                   │      ││      ││         │\n",
      "q1_1: ─────────────┤1     ├┤0 1/x ├┤1        ├\n",
      "                   └──────┘│      │└─────────┘\n",
      "q2_0: ─────────────────────┤2     ├───────────\n",
      "                           └──────┘           \n"
     ]
    }
   ],
   "source": [
    "# for the Quantum Method, we will get the circuits\n",
    "print(\"Quantum Way\", hhl.state)"
   ]
  },
  {
   "cell_type": "markdown",
   "id": "0e0edbf0-6711-4b7e-b1da-6b1732b55d9c",
   "metadata": {},
   "source": []
  },
  {
   "cell_type": "code",
   "execution_count": 7,
   "id": "58498870-d517-4112-b745-06f51bcb050c",
   "metadata": {},
   "outputs": [
    {
     "name": "stdout",
     "output_type": "stream",
     "text": [
      "classical Euclidean norm: 0.7905694150420949\n",
      "naive Euclidean norm: 0.7905694150420939\n"
     ]
    }
   ],
   "source": [
    "# comparing the Accuracy\n",
    "print('classical Euclidean norm:', classical.euclidean_norm)\n",
    "print('naive Euclidean norm:', hhl.euclidean_norm)\n"
   ]
  },
  {
   "cell_type": "markdown",
   "id": "f2f0fd10-8e2c-4b01-b278-3233b84a3e13",
   "metadata": {},
   "source": [
    "## Comparing the Solution Vector-Wise"
   ]
  },
  {
   "cell_type": "code",
   "execution_count": 8,
   "id": "34dd8424-6a9e-4d5d-8a23-6f36285f1505",
   "metadata": {},
   "outputs": [
    {
     "name": "stdout",
     "output_type": "stream",
     "text": [
      "HHL Vector Solution: [ 0.75-1.06454051e-16j -0.25+1.20929103e-17j]\n"
     ]
    }
   ],
   "source": [
    "from qiskit.quantum_info import Statevector\n",
    "\n",
    "hhl_sv = Statevector(hhl.state).data\n",
    "\n",
    "\n",
    "# Extract the right vector components. 1000 corresponds to the index 8 and 1001 corresponds to the index 9\n",
    "hhl_vector = np.array([hhl_sv[8], hhl_sv[9]])\n",
    "\n",
    "print('HHL Vector Solution:', hhl_vector)\n"
   ]
  },
  {
   "cell_type": "markdown",
   "id": "1bd6402c-c185-49c5-a06d-04976e58a837",
   "metadata": {},
   "source": [
    "The imaginary part is very small, most likely due to computer accuracy, and can be disregarded in this case."
   ]
  },
  {
   "cell_type": "code",
   "execution_count": 9,
   "id": "d71a56a2-3bdf-42a3-a1da-3249f79ed2b5",
   "metadata": {},
   "outputs": [
    {
     "name": "stdout",
     "output_type": "stream",
     "text": [
      "HHL Vector [ 0.75 -0.25]\n"
     ]
    }
   ],
   "source": [
    "hhl_vector = np.real(hhl_vector)\n",
    "print(\"HHL Vector\",hhl_vector)"
   ]
  },
  {
   "cell_type": "code",
   "execution_count": 10,
   "id": "c05494b4-bdcd-4455-8ab1-e3c2287f81d8",
   "metadata": {},
   "outputs": [
    {
     "name": "stdout",
     "output_type": "stream",
     "text": [
      "Classical Vector [ 0.75 -0.25]\n"
     ]
    }
   ],
   "source": [
    "# and the classical Vector\n",
    "print(\"Classical Vector\", classical.state)"
   ]
  },
  {
   "cell_type": "markdown",
   "id": "e57a96f1-e16b-40f6-9d1d-6ea70dab5b7c",
   "metadata": {},
   "source": [
    "## Using different $|b\\rangle$ vectors"
   ]
  },
  {
   "cell_type": "code",
   "execution_count": 11,
   "id": "2ed09ebb-6cb6-46e7-9672-7e5c8433a81c",
   "metadata": {},
   "outputs": [],
   "source": [
    "vector_3 =  np.array([0.440,-0.898])\n",
    "\n",
    "vector_4 =  np.array([0.960,-0.281])\n",
    "\n",
    "\n",
    "vector_2 = np.array([0.707,0.707])"
   ]
  },
  {
   "cell_type": "code",
   "execution_count": 12,
   "id": "e649c52b-6cb5-4066-b7a9-619c713010ef",
   "metadata": {},
   "outputs": [],
   "source": [
    "def hhl_two_unknown(matrix, vector):\n",
    "    hhl = HHL().solve(matrix,vector)\n",
    "    \n",
    "    \n",
    "    classical = NumPyLinearSolver().solve(matrix, vector/ np.linalg.norm(vector))\n",
    "    # comparing the Accuracy\n",
    "    accuracy_hhl = hhl.euclidean_norm\n",
    "    accuracy_classical = classical.euclidean_norm\n",
    "    \n",
    "    hhl_sv = Statevector(hhl.state).data\n",
    "\n",
    "\n",
    "# Extract the right vector components. 1000 corresponds to the index 8 and 1001 corresponds to the index 9\n",
    "    hhl_vector = np.array([hhl_sv[8], hhl_sv[9]])\n",
    "    hhl_vector = np.real(hhl_vector)\n",
    "    \n",
    "    \n",
    "    return(\"HHl Vector\",hhl_vector)\n",
    "\n",
    "\n",
    "    "
   ]
  },
  {
   "cell_type": "code",
   "execution_count": 13,
   "id": "a744ede0-57ae-43b8-acad-b78a64498eb7",
   "metadata": {},
   "outputs": [
    {
     "data": {
      "text/plain": [
       "('HHl Vector', array([0.35355339, 0.35355339]))"
      ]
     },
     "execution_count": 13,
     "metadata": {},
     "output_type": "execute_result"
    }
   ],
   "source": [
    "hhl_two_unknown(matrix, vector_2)"
   ]
  },
  {
   "cell_type": "code",
   "execution_count": 14,
   "id": "1beb119d-64b0-4f58-8e73-ca2c5e774857",
   "metadata": {},
   "outputs": [],
   "source": [
    "def classical_way(matrix, vector):\n",
    "    classical = NumPyLinearSolver().solve(matrix, vector/ np.linalg.norm(vector))\n",
    "    \n",
    "    return(\"Classical Vector\",classical.state)"
   ]
  },
  {
   "cell_type": "markdown",
   "id": "5ceae6c8-35ba-4a3d-bc0e-17f6ce9ec8cc",
   "metadata": {},
   "source": [
    "HHL Vector is exact because all the default methods used are exact. But what if we use a bigger matrix?"
   ]
  },
  {
   "cell_type": "code",
   "execution_count": null,
   "id": "a390cf24-67f0-4c05-a0ac-bcb590062918",
   "metadata": {},
   "outputs": [],
   "source": [
    "classical_way(matrix, vector_2)"
   ]
  },
  {
   "cell_type": "code",
   "execution_count": null,
   "id": "6b960695-c1f9-49d0-a9a5-fba074c29049",
   "metadata": {},
   "outputs": [],
   "source": [
    "hhl_two_unknown(matrix, vector_3)"
   ]
  },
  {
   "cell_type": "code",
   "execution_count": 17,
   "id": "29da021c-7fb9-43f1-a785-84c414f7a7df",
   "metadata": {},
   "outputs": [
    {
     "data": {
      "text/plain": [
       "('Classical Vector', array([ 0.55449889, -0.78349843]))"
      ]
     },
     "execution_count": 17,
     "metadata": {},
     "output_type": "execute_result"
    }
   ],
   "source": [
    "\n",
    "classical_way(matrix, vector_3)"
   ]
  },
  {
   "cell_type": "code",
   "execution_count": 18,
   "id": "1d25c3b7-5261-4f4b-bc7a-23024358bf22",
   "metadata": {},
   "outputs": [
    {
     "data": {
      "text/plain": [
       "('HHl Vector', array([ 0.79002843, -0.45062362]))"
      ]
     },
     "execution_count": 18,
     "metadata": {},
     "output_type": "execute_result"
    }
   ],
   "source": [
    "hhl_two_unknown(matrix, vector_4)"
   ]
  },
  {
   "cell_type": "code",
   "execution_count": 19,
   "id": "98950194-aff6-4cd5-a8a5-2794154f86a7",
   "metadata": {},
   "outputs": [
    {
     "data": {
      "text/plain": [
       "('Classical Vector', array([ 0.79002843, -0.45062362]))"
      ]
     },
     "execution_count": 19,
     "metadata": {},
     "output_type": "execute_result"
    }
   ],
   "source": [
    "\n",
    "classical_way(matrix, vector_4)"
   ]
  },
  {
   "cell_type": "markdown",
   "id": "77bcd2c3-0ae1-4915-8b35-ece62abffaba",
   "metadata": {},
   "source": [
    "## Doing it for a 4 \\times 4 matrix"
   ]
  },
  {
   "cell_type": "code",
   "execution_count": 20,
   "id": "4a8e6a0d-741a-4a77-ad44-0828a555c543",
   "metadata": {},
   "outputs": [
    {
     "name": "stdout",
     "output_type": "stream",
     "text": [
      "classical euclidean norm: 1.237833351044751\n",
      "naive euclidean norm: 1.243808933128547\n"
     ]
    }
   ],
   "source": [
    "from scipy.sparse import diags\n",
    "\n",
    "num_qubits = 2\n",
    "matrix_size = 2 ** num_qubits\n",
    "# entries of the tridiagonal Toeplitz symmetric matrix\n",
    "a = 1\n",
    "b = -1/3\n",
    "\n",
    "matrix = diags([b, a, b], [-1, 0, 1], shape=(matrix_size, matrix_size)).toarray()\n",
    "vector = np.array([1] + [0]*(matrix_size - 1))\n",
    "\n",
    "# run the algorithms\n",
    "classical_solution = NumPyLinearSolver().solve(matrix, vector / np.linalg.norm(vector))\n",
    "naive_hhl_solution = HHL().solve(matrix, vector)\n",
    "\n",
    "print('classical euclidean norm:', classical_solution.euclidean_norm)\n",
    "print('naive euclidean norm:', naive_hhl_solution.euclidean_norm)\n"
   ]
  },
  {
   "cell_type": "code",
   "execution_count": 21,
   "id": "639b54a9-720b-4284-8f97-7730d1aeb6d1",
   "metadata": {},
   "outputs": [
    {
     "name": "stdout",
     "output_type": "stream",
     "text": [
      "[[ 1.         -0.33333333  0.          0.        ]\n",
      " [-0.33333333  1.         -0.33333333  0.        ]\n",
      " [ 0.         -0.33333333  1.         -0.33333333]\n",
      " [ 0.          0.         -0.33333333  1.        ]]\n",
      "[1 0 0 0]\n"
     ]
    }
   ],
   "source": [
    "print(matrix)\n",
    "print(vector)"
   ]
  },
  {
   "cell_type": "code",
   "execution_count": 22,
   "id": "a23dd24d-6c7d-450d-aa00-0b0e133abc47",
   "metadata": {},
   "outputs": [],
   "source": [
    "from qiskit.algorithms.linear_solvers.observables import AbsoluteAverage, MatrixFunctional"
   ]
  },
  {
   "cell_type": "markdown",
   "id": "e1db87ec-3e31-4577-b848-708485a87960",
   "metadata": {},
   "source": [
    "Euclidean norm for a vector  $x=(x_1,....,x_N)$\n",
    "  is defined as  $||x||=\\sqrt{\\sum^N_{i=1}x^2_i}$ . \n",
    "  \n",
    "  Therefore, the probability of measuring  $1$  in the auxiliary qubit is the squared norm of  $x$ . This means that the HHL algorithm can always calculate the euclidean norm of the solution and we can compare the accuracy of the results"
   ]
  },
  {
   "cell_type": "code",
   "execution_count": 23,
   "id": "513bd94f-5f5f-470d-9d62-ed0b2c989dc5",
   "metadata": {},
   "outputs": [],
   "source": [
    "average_solution = HHL().solve(matrix, vector, AbsoluteAverage())\n",
    "classical_average = NumPyLinearSolver().solve(matrix, vector / np.linalg.norm(vector), AbsoluteAverage())\n"
   ]
  },
  {
   "cell_type": "code",
   "execution_count": 24,
   "id": "cc2f0d82-e905-46eb-83be-353c0e02465f",
   "metadata": {},
   "outputs": [
    {
     "name": "stdout",
     "output_type": "stream",
     "text": [
      "quantum average: 0.4522866685211148\n",
      "classical average: 0.45\n",
      "quantum circuit results: (0.1736360026908816+0j)\n"
     ]
    }
   ],
   "source": [
    "print('quantum average:', average_solution.observable)\n",
    "print('classical average:', classical_average.observable)\n",
    "print('quantum circuit results:', average_solution.circuit_results)"
   ]
  },
  {
   "cell_type": "code",
   "execution_count": 25,
   "id": "8ddd2a6e-4cf3-4eb6-a090-d9362fa4b273",
   "metadata": {},
   "outputs": [
    {
     "name": "stdout",
     "output_type": "stream",
     "text": [
      "Depth: 26\n",
      "CNOTS: 10\n"
     ]
    },
    {
     "data": {
      "image/png": "[encoded data removed]",
      "text/plain": [
       "<Figure size 1992.32x325.08 with 1 Axes>"
      ]
     },
     "execution_count": 25,
     "metadata": {},
     "output_type": "execute_result"
    }
   ],
   "source": [
    "from qiskit import QuantumRegister, QuantumCircuit\n",
    "import numpy as np\n",
    "\n",
    "t = 2  # This is not optimal; As an exercise, set this to the\n",
    "       # value that will get the best results. See section 8 for solution.\n",
    "\n",
    "nqubits = 4  # Total number of qubits\n",
    "nb = 1  # Number of qubits representing the solution\n",
    "nl = 2  # Number of qubits representing the eigenvalues\n",
    "\n",
    "theta = 0  # Angle defining |b>\n",
    "\n",
    "a = 1  # Matrix diagonal\n",
    "b = -1/3  # Matrix off-diagonal\n",
    "\n",
    "# Initialize the quantum and classical registers\n",
    "qr = QuantumRegister(nqubits)\n",
    "\n",
    "# Create a Quantum Circuit\n",
    "qc = QuantumCircuit(qr)\n",
    "\n",
    "qrb = qr[0:nb]\n",
    "qrl = qr[nb:nb+nl]\n",
    "qra = qr[nb+nl:nb+nl+1]\n",
    "\n",
    "# State preparation. \n",
    "qc.ry(2*theta, qrb[0])\n",
    "    \n",
    "# QPE with e^{iAt}\n",
    "for qu in qrl:\n",
    "    qc.h(qu)\n",
    "\n",
    "qc.p(a*t, qrl[0])\n",
    "qc.p(a*t*2, qrl[1])\n",
    "\n",
    "qc.u(b*t, -np.pi/2, np.pi/2, qrb[0])\n",
    "\n",
    "\n",
    "# Controlled e^{iAt} on \\lambda_{1}:\n",
    "params=b*t\n",
    "\n",
    "qc.p(np.pi/2,qrb[0])\n",
    "qc.cx(qrl[0],qrb[0])\n",
    "qc.ry(params,qrb[0])\n",
    "qc.cx(qrl[0],qrb[0])\n",
    "qc.ry(-params,qrb[0])\n",
    "qc.p(3*np.pi/2,qrb[0])\n",
    "\n",
    "# Controlled e^{2iAt} on \\lambda_{2}:\n",
    "params = b*t*2\n",
    "\n",
    "qc.p(np.pi/2,qrb[0])\n",
    "qc.cx(qrl[1],qrb[0])\n",
    "qc.ry(params,qrb[0])\n",
    "qc.cx(qrl[1],qrb[0])\n",
    "qc.ry(-params,qrb[0])\n",
    "qc.p(3*np.pi/2,qrb[0])\n",
    "\n",
    "# Inverse QFT\n",
    "qc.h(qrl[1])\n",
    "qc.rz(-np.pi/4,qrl[1])\n",
    "qc.cx(qrl[0],qrl[1])\n",
    "qc.rz(np.pi/4,qrl[1])\n",
    "qc.cx(qrl[0],qrl[1])\n",
    "qc.rz(-np.pi/4,qrl[0])\n",
    "qc.h(qrl[0])\n",
    "\n",
    "# Eigenvalue rotation\n",
    "t1=(-np.pi +np.pi/3 - 2*np.arcsin(1/3))/4\n",
    "t2=(-np.pi -np.pi/3 + 2*np.arcsin(1/3))/4\n",
    "t3=(np.pi -np.pi/3 - 2*np.arcsin(1/3))/4\n",
    "t4=(np.pi +np.pi/3 + 2*np.arcsin(1/3))/4\n",
    "\n",
    "qc.cx(qrl[1],qra[0])\n",
    "qc.ry(t1,qra[0])\n",
    "qc.cx(qrl[0],qra[0])\n",
    "qc.ry(t2,qra[0])\n",
    "qc.cx(qrl[1],qra[0])\n",
    "qc.ry(t3,qra[0])\n",
    "qc.cx(qrl[0],qra[0])\n",
    "qc.ry(t4,qra[0])\n",
    "qc.measure_all()\n",
    "\n",
    "print(\"Depth: %i\" % qc.depth())\n",
    "print(\"CNOTS: %i\" % qc.count_ops()['cx'])\n",
    "qc.draw(fold=-1)"
   ]
  },
  {
   "cell_type": "code",
   "execution_count": 30,
   "id": "81673d80-47e8-4768-8718-7ba376bbbec0",
   "metadata": {},
   "outputs": [
    {
     "name": "stderr",
     "output_type": "stream",
     "text": [
      "ibmqfactory.load_account:WARNING:2021-08-18 19:38:15,803: Credentials are already in use. The existing account in the session will be replaced.\n"
     ]
    },
    {
     "name": "stdout",
     "output_type": "stream",
     "text": [
      "Traceback \u001b[1;36m(most recent call last)\u001b[0m:\n",
      "  File \u001b[0;32m\"<ipython-input-30-ff95f5f05eb5>\"\u001b[0m, line \u001b[0;32m8\u001b[0m, in \u001b[0;35m<module>\u001b[0m\n",
      "    backend = provider.get_backend('ibmq_vigo')\n",
      "\u001b[1;36m  File \u001b[1;32m\"/opt/conda/lib/python3.8/site-packages/qiskit/providers/provider.py\"\u001b[1;36m, line \u001b[1;32m55\u001b[1;36m, in \u001b[1;35mget_backend\u001b[1;36m\u001b[0m\n",
      "\u001b[1;33m    raise QiskitBackendNotFoundError(\"No backend matches the criteria\")\u001b[0m\n",
      "\u001b[1;31mQiskitBackendNotFoundError\u001b[0m\u001b[1;31m:\u001b[0m 'No backend matches the criteria'\n",
      "\n",
      "Use %tb to get the full traceback.\n"
     ]
    },
    {
     "data": {
      "text/html": [
       "\n",
       "<style>\n",
       ".button {\n",
       "  border: none;\n",
       "  color: white;\n",
       "  padding: 4px 8px;\n",
       "  text-align: center;\n",
       "  text-decoration: none;\n",
       "  display: inline-block;\n",
       "  font-size: 12px;\n",
       "  margin: 4px 2px;\n",
       "  transition-duration: 0.2s;\n",
       "  cursor: pointer;\n",
       "}\n",
       ".iqx-button {\n",
       "  background-color: #0f62fe; \n",
       "  color: white; \n",
       "}\n",
       ".iqx-button:hover {\n",
       "  background-color: #0043ce;\n",
       "  color: white;\n",
       "}\n",
       "</style>\n",
       "<a href=\"https://stackoverflow.com/search?q=QiskitBackendNotFoundError: No backend matches the criteria\" target='_blank'><button class='button iqx-button'>Search for solution online</button></a>\n"
      ],
      "text/plain": [
       "<IPython.core.display.HTML object>"
      ]
     },
     "metadata": {},
     "output_type": "display_data"
    }
   ],
   "source": [
    "from qiskit import ClassicalRegister, IBMQ\n",
    "from qiskit.compiler import transpile\n",
    "from qiskit.ignis.mitigation.measurement import (complete_meas_cal, # Measurement error mitigation functions\n",
    "                                                 CompleteMeasFitter, \n",
    "                                                 MeasurementFilter)\n",
    "\n",
    "provider = IBMQ.load_account()\n",
    "backend = provider.get_backend('ibmq_vigo')\n",
    "\n",
    "#backend = provider.get_backend('ibm-q') # calibrate using real hardware\n",
    "layout = [2,3,0,4]\n",
    "chip_qubits = 5\n",
    "\n",
    "# Transpiled circuit for the real hardware\n",
    "qc_qa_cx = transpile(qc, backend=backend, initial_layout=layout)"
   ]
  },
  {
   "cell_type": "code",
   "execution_count": 28,
   "id": "a8394865-1d7e-42e5-90aa-f2f6495f43f0",
   "metadata": {},
   "outputs": [
    {
     "name": "stderr",
     "output_type": "stream",
     "text": [
      "ibmqfactory.load_account:WARNING:2021-08-18 19:37:19,164: Credentials are already in use. The existing account in the session will be replaced.\n"
     ]
    },
    {
     "data": {
      "text/plain": [
       "[<AccountProvider for IBMQ(hub='ibm-q', group='open', project='main')>]"
      ]
     },
     "execution_count": 28,
     "metadata": {},
     "output_type": "execute_result"
    }
   ],
   "source": [
    "from qiskit import IBMQ\n",
    "\n",
    "# IBMQ.save_account(TOKEN)\n",
    "IBMQ.load_account() # Load account from disk\n",
    "IBMQ.providers()    # List all available providers"
   ]
  },
  {
   "cell_type": "code",
   "execution_count": null,
   "id": "80106789-d4a2-4876-9dcf-1b01d6abe57f",
   "metadata": {},
   "outputs": [],
   "source": []
  }
 ],
 "metadata": {
  "kernelspec": {
   "display_name": "Qiskit v0.29.0",
   "language": "python",
   "name": "python3"
  },
  "language_info": {
   "codemirror_mode": {
    "name": "ipython",
    "version": 3
   },
   "file_extension": ".py",
   "mimetype": "text/x-python",
   "name": "python",
   "nbconvert_exporter": "python",
   "pygments_lexer": "ipython3",
   "version": "3.8.10"
  },
  "widgets": {
   "application/vnd.jupyter.widget-state+json": {
    "state": {},
    "version_major": 2,
    "version_minor": 0
   }
  }
 },
 "nbformat": 4,
 "nbformat_minor": 5
}
