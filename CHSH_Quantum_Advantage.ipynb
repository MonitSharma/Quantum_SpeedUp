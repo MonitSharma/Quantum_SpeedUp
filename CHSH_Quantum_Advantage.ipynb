{
 "cells": [
  {
   "cell_type": "code",
   "execution_count": 13,
   "id": "19e135b1-1be6-4613-808a-489ab346181e",
   "metadata": {},
   "outputs": [
    {
     "name": "stderr",
     "output_type": "stream",
     "text": [
      "ibmqfactory.load_account:WARNING:2021-08-06 05:27:23,391: Credentials are already in use. The existing account in the session will be replaced.\n"
     ]
    }
   ],
   "source": [
    "import numpy as np\n",
    "\n",
    "# Importing standard Qiskit libraries\n",
    "from qiskit import *\n",
    "from qiskit import QuantumCircuit, transpile, Aer, IBMQ\n",
    "from qiskit.tools.jupyter import *\n",
    "from qiskit.visualization import *\n",
    "from ibm_quantum_widgets import *\n",
    "from qiskit.providers.aer import QasmSimulator\n",
    "\n",
    "# Loading your IBM Quantum account(s)\n",
    "provider = IBMQ.load_account()"
   ]
  },
  {
   "cell_type": "code",
   "execution_count": 14,
   "id": "6e174a75-2f56-4dee-a367-cbb7a5928d67",
   "metadata": {},
   "outputs": [],
   "source": [
    "# importing the least busy quantum computer\n",
    "\n",
    "from qiskit.providers.ibmq import least_busy"
   ]
  },
  {
   "cell_type": "code",
   "execution_count": 15,
   "id": "bf51c805-2068-4bb6-8895-add3e606644c",
   "metadata": {},
   "outputs": [],
   "source": [
    "# the CHSH game circuit\n",
    "\n",
    "\n",
    "def CHSH(x,y,a0 = 0, a1 = np.pi/2, b0 =np.pi/4, b1 = -np.pi/4):\n",
    "    '''\n",
    "    Here x is the bit received by ALice and  y is the\n",
    "    bit recieved by Bob, and a_0 is the angle used by\n",
    "    Alice if she gets 0, a_1 is the angle used when she\n",
    "    get 1, similarly for Bob applies b_0 angle if he gets\n",
    "    0 and b_1 if he gets 1\n",
    "    '''\n",
    "    \n",
    "    \n",
    "    # make a quantum circuit\n",
    "    \n",
    "    circ= QuantumCircuit(2,2)\n",
    "    \n",
    "    # making a bell pair\n",
    "    circ.h(0)\n",
    "    circ.cx(0,1)\n",
    "    \n",
    "    # check for the bits recieved\n",
    "    \n",
    "    if (x == 0):\n",
    "        circ.ry(a0,0)\n",
    "    else:\n",
    "        circ.ry(a1,0)\n",
    "        \n",
    "        \n",
    "        \n",
    "    if(y==0):\n",
    "        circ.ry(b0,1)\n",
    "    else:\n",
    "        circ.ry(b1,1)\n",
    "        \n",
    "    # make the measurement\n",
    "    \n",
    "    circ.measure(range(2), range(2))\n",
    "    \n",
    "    return circ"
   ]
  },
  {
   "cell_type": "code",
   "execution_count": 16,
   "id": "81306b7f-cf59-4468-a3a3-4580d37cc182",
   "metadata": {},
   "outputs": [],
   "source": [
    "def win_prob(backend, shots = 8192, a0=0, a1=np.pi/2, b0=np.pi/4, b1= -np.pi/4):\n",
    "    '''\n",
    "    Calculating the winning probability of Alice and Bob\n",
    "    if they use the Quantum Strategy\n",
    "    '''\n",
    "    total = 0\n",
    "    circuits = [CHSH(0,0,a0,a1,b0,b1), CHSH(0,1,a0,a1,b0,b1),CHSH(1,0,a0,a1,b0,b1),CHSH(1,1,a0,a1,b0,b1)] # all the four possiblities\n",
    "    job = execute(circuits,backend=backend, shots = shots)\n",
    "    \n",
    "    for qc in circuits[0:3]:\n",
    "        counts = job.result().get_counts(qc)\n",
    "        if ('00' in counts):\n",
    "            total += counts['00']\n",
    "        if ('11' in counts):\n",
    "            total += counts['11']\n",
    "        # for the fourth \n",
    "        counts = job.result().get_counts(circuits[3])\n",
    "        if('01' in counts):\n",
    "            total += counts['01']\n",
    "        if('10' in counts):\n",
    "            total += counts['10']\n",
    "            \n",
    "        return total/(2*shots)\n",
    "    \n",
    "    "
   ]
  },
  {
   "cell_type": "code",
   "execution_count": 19,
   "id": "5b048e89-63d3-483a-94ba-00c99260bae1",
   "metadata": {},
   "outputs": [
    {
     "name": "stdout",
     "output_type": "stream",
     "text": [
      "The Winning Probability is 0.8538818359375\n"
     ]
    }
   ],
   "source": [
    "# running on Quantum Simulator\n",
    "backend = Aer.get_backend('qasm_simulator')\n",
    "\n",
    "print(\"The Winning Probability is\",win_prob(backend))"
   ]
  },
  {
   "cell_type": "code",
   "execution_count": null,
   "id": "bb217fb3-e46f-47d1-915b-1a08102209cd",
   "metadata": {},
   "outputs": [
    {
     "name": "stderr",
     "output_type": "stream",
     "text": [
      "ibmqfactory.load_account:WARNING:2021-08-06 05:30:02,196: Credentials are already in use. The existing account in the session will be replaced.\n"
     ]
    },
    {
     "name": "stdout",
     "output_type": "stream",
     "text": [
      "we are executing on ... ibmq_manila\n"
     ]
    }
   ],
   "source": [
    "# run on an actual Quantum Computer\n",
    "\n",
    "provider = IBMQ.load_account()\n",
    "\n",
    "backend = least_busy(provider.backends(operational = True, simulator = False, status_msg='active',\n",
    "                                      filters=lambda x: x.configuration().n_qubits >1))\n",
    "print(\"we are executing on ...\", backend)\n",
    "\n",
    "print(\"The Winning Probability is \",win_prob(backend))"
   ]
  },
  {
   "cell_type": "markdown",
   "id": "d5e1e404-ef30-43f5-af8a-d01704a583ae",
   "metadata": {},
   "source": [
    "Here We showed the Quantum Advantage of the CHSH Game"
   ]
  }
 ],
 "metadata": {
  "kernelspec": {
   "display_name": "Qiskit v0.29.0",
   "language": "python",
   "name": "python3"
  },
  "language_info": {
   "codemirror_mode": {
    "name": "ipython",
    "version": 3
   },
   "file_extension": ".py",
   "mimetype": "text/x-python",
   "name": "python",
   "nbconvert_exporter": "python",
   "pygments_lexer": "ipython3",
   "version": "3.8.10"
  },
  "widgets": {
   "application/vnd.jupyter.widget-state+json": {
    "state": {
     "0122e2ea42454fafa5375fb8b7462320": {
      "model_module": "@jupyter-widgets/controls",
      "model_module_version": "1.5.0",
      "model_name": "DescriptionStyleModel",
      "state": {
       "description_width": ""
      }
     },
     "047981091c8d438483207067ab6348fb": {
      "model_module": "@jupyter-widgets/controls",
      "model_module_version": "1.5.0",
      "model_name": "DescriptionStyleModel",
      "state": {
       "description_width": ""
      }
     },
     "05b8d1aac10541bcbc1377d1bfd6cbfb": {
      "model_module": "@jupyter-widgets/base",
      "model_module_version": "1.2.0",
      "model_name": "LayoutModel",
      "state": {
       "width": "70px"
      }
     },
     "081b343114d64ae5961e85eb6f202e7f": {
      "model_module": "@jupyter-widgets/base",
      "model_module_version": "1.2.0",
      "model_name": "LayoutModel",
      "state": {}
     },
     "08c537a2424145b0a7bb842546dfceca": {
      "model_module": "@jupyter-widgets/controls",
      "model_module_version": "1.5.0",
      "model_name": "DescriptionStyleModel",
      "state": {
       "description_width": ""
      }
     },
     "0a077191b0534e0698e4461fb5b60225": {
      "model_module": "@jupyter-widgets/base",
      "model_module_version": "1.2.0",
      "model_name": "LayoutModel",
      "state": {
       "grid_area": "right",
       "padding": "0px 0px 0px 0px",
       "width": "70px"
      }
     },
     "0e648363290343a3888816eb1eb844d7": {
      "model_module": "@jupyter-widgets/controls",
      "model_module_version": "1.5.0",
      "model_name": "HTMLModel",
      "state": {
       "layout": "IPY_MODEL_4d8031804056409cba7910bc9dfe78a4",
       "style": "IPY_MODEL_e8537343abe9458694069bb92db97c9d",
       "value": "ibmq_manila"
      }
     },
     "130137c23b204bd5b7c4b60fe0f5f507": {
      "model_module": "@jupyter-widgets/controls",
      "model_module_version": "1.5.0",
      "model_name": "GridBoxModel",
      "state": {
       "children": [
        "IPY_MODEL_7318e8ab5c394781a542b247d6680b40"
       ],
       "layout": "IPY_MODEL_c0788228983f454ca49d6c07306f70d4"
      }
     },
     "13a405f3e8084aee8cd05fe6c6e19311": {
      "model_module": "@jupyter-widgets/controls",
      "model_module_version": "1.5.0",
      "model_name": "ButtonModel",
      "state": {
       "icon": "close",
       "layout": "IPY_MODEL_426db5aaeeb84d4da8a49bddbf6264f8",
       "style": "IPY_MODEL_1fc6efcfc3b742f98e922591ed676a2c"
      }
     },
     "178987a04dac4961b1316dd993615f7b": {
      "model_module": "@jupyter-widgets/controls",
      "model_module_version": "1.5.0",
      "model_name": "DescriptionStyleModel",
      "state": {
       "description_width": ""
      }
     },
     "1a46e388b2644a249ca5aa6e7f265263": {
      "model_module": "@jupyter-widgets/controls",
      "model_module_version": "1.5.0",
      "model_name": "DescriptionStyleModel",
      "state": {
       "description_width": ""
      }
     },
     "1a87cbc71d754410b26fbd9d68e458a9": {
      "model_module": "@jupyter-widgets/controls",
      "model_module_version": "1.5.0",
      "model_name": "DescriptionStyleModel",
      "state": {
       "description_width": ""
      }
     },
     "1b650357cd47404390d4411638a2553c": {
      "model_module": "@jupyter-widgets/controls",
      "model_module_version": "1.5.0",
      "model_name": "HTMLModel",
      "state": {
       "layout": "IPY_MODEL_55b77ba3a1c74d109dce1f40ce2227ac",
       "style": "IPY_MODEL_95fa941b15fe432289b753d5c2efe8ac",
       "value": "<h5>Job ID</h5>"
      }
     },
     "1ce059bd4d714239b6792e18bb59d5aa": {
      "model_module": "@jupyter-widgets/controls",
      "model_module_version": "1.5.0",
      "model_name": "HTMLModel",
      "state": {
       "layout": "IPY_MODEL_b74d89d7da874ea4927199a842856494",
       "style": "IPY_MODEL_7b8c298f0e4645c9ace8c7914126e761",
       "value": "610cc80cf0dcc042abe95c90"
      }
     },
     "1ecc4612d1db434aa82876e13811b661": {
      "model_module": "@jupyter-widgets/controls",
      "model_module_version": "1.5.0",
      "model_name": "HTMLModel",
      "state": {
       "layout": "IPY_MODEL_8bbfa32bff4946098b58fdc69f5b256b",
       "style": "IPY_MODEL_1a87cbc71d754410b26fbd9d68e458a9",
       "value": "job has successfully run"
      }
     },
     "1fc6efcfc3b742f98e922591ed676a2c": {
      "model_module": "@jupyter-widgets/controls",
      "model_module_version": "1.5.0",
      "model_name": "ButtonStyleModel",
      "state": {
       "button_color": "white"
      }
     },
     "24df1d477405443b8f1541c749e23efc": {
      "model_module": "@jupyter-widgets/base",
      "model_module_version": "1.2.0",
      "model_name": "LayoutModel",
      "state": {
       "max_width": "700px",
       "min_width": "700px"
      }
     },
     "271877d7a9ba403fbc7d68a4cb1dd40f": {
      "model_module": "@jupyter-widgets/base",
      "model_module_version": "1.2.0",
      "model_name": "LayoutModel",
      "state": {
       "max_width": "700px",
       "min_width": "700px"
      }
     },
     "2c3e7b3a51c84c69acb55cb44b414ddb": {
      "model_module": "@jupyter-widgets/controls",
      "model_module_version": "1.5.0",
      "model_name": "HTMLModel",
      "state": {
       "layout": "IPY_MODEL_b72a0a32076146b6b2c1034610c2b2b2",
       "style": "IPY_MODEL_08c537a2424145b0a7bb842546dfceca",
       "value": "ibmq_manila"
      }
     },
     "345d1848f0934824b74c3f78a953da95": {
      "model_module": "@jupyter-widgets/controls",
      "model_module_version": "1.5.0",
      "model_name": "DescriptionStyleModel",
      "state": {
       "description_width": ""
      }
     },
     "34da9c1feb78401996439a7a5cb3c431": {
      "model_module": "@jupyter-widgets/base",
      "model_module_version": "1.2.0",
      "model_name": "LayoutModel",
      "state": {
       "max_width": "700px",
       "min_width": "700px"
      }
     },
     "36790b81f2284cebb9e3683f60cdd7ae": {
      "model_module": "@jupyter-widgets/controls",
      "model_module_version": "1.5.0",
      "model_name": "HTMLModel",
      "state": {
       "layout": "IPY_MODEL_40db09d2c2174c2b9fada79d4c16b15c",
       "style": "IPY_MODEL_345d1848f0934824b74c3f78a953da95",
       "value": "-"
      }
     },
     "379101f96d5345b1954b4160ddd57c12": {
      "model_module": "@jupyter-widgets/base",
      "model_module_version": "1.2.0",
      "model_name": "LayoutModel",
      "state": {
       "margin": "0px 5px 0px 0px",
       "width": "32px"
      }
     },
     "393db50deaa94fe09fc853091ea0a752": {
      "model_module": "@jupyter-widgets/controls",
      "model_module_version": "1.5.0",
      "model_name": "DescriptionStyleModel",
      "state": {
       "description_width": ""
      }
     },
     "39903fa5e2d04668945b6611c85bb0d8": {
      "model_module": "@jupyter-widgets/controls",
      "model_module_version": "1.5.0",
      "model_name": "DescriptionStyleModel",
      "state": {
       "description_width": ""
      }
     },
     "3a4b3eaf268648aa94440adeb9101981": {
      "model_module": "@jupyter-widgets/controls",
      "model_module_version": "1.5.0",
      "model_name": "HTMLModel",
      "state": {
       "layout": "IPY_MODEL_875ceafc95be4db495fae83a481db50c",
       "style": "IPY_MODEL_1a46e388b2644a249ca5aa6e7f265263",
       "value": "job is queued"
      }
     },
     "3e511e637d3b46359dfa6ed317bec705": {
      "model_module": "@jupyter-widgets/controls",
      "model_module_version": "1.5.0",
      "model_name": "HTMLModel",
      "state": {
       "layout": "IPY_MODEL_b851ec2997d046fa807c530b2e0bd635",
       "style": "IPY_MODEL_e56ce6660baa4cf5b8a18d659ae9b183",
       "value": "-"
      }
     },
     "4015922097f2423596af2f50710faa39": {
      "model_module": "@jupyter-widgets/base",
      "model_module_version": "1.2.0",
      "model_name": "LayoutModel",
      "state": {
       "overflow_x": "scroll"
      }
     },
     "40db09d2c2174c2b9fada79d4c16b15c": {
      "model_module": "@jupyter-widgets/base",
      "model_module_version": "1.2.0",
      "model_name": "LayoutModel",
      "state": {
       "width": "70px"
      }
     },
     "40e9436606a740b59e71479b57a01638": {
      "model_module": "@jupyter-widgets/controls",
      "model_module_version": "1.5.0",
      "model_name": "HTMLModel",
      "state": {
       "layout": "IPY_MODEL_4c9cb7b7dcac46f3b9143cb0399d6ac8",
       "style": "IPY_MODEL_e8fcfb5e70f5464b8896ab9b868a754d",
       "value": "job has successfully run"
      }
     },
     "41a316275f1942d8a113c1f6cdfda65b": {
      "model_module": "@jupyter-widgets/controls",
      "model_module_version": "1.5.0",
      "model_name": "DescriptionStyleModel",
      "state": {
       "description_width": ""
      }
     },
     "426db5aaeeb84d4da8a49bddbf6264f8": {
      "model_module": "@jupyter-widgets/base",
      "model_module_version": "1.2.0",
      "model_name": "LayoutModel",
      "state": {
       "margin": "0px 5px 0px 0px",
       "width": "32px"
      }
     },
     "45496b3fdf8443de8d8c64b6ee5d33dc": {
      "model_module": "@jupyter-widgets/base",
      "model_module_version": "1.2.0",
      "model_name": "LayoutModel",
      "state": {
       "width": "190px"
      }
     },
     "4c9cb7b7dcac46f3b9143cb0399d6ac8": {
      "model_module": "@jupyter-widgets/base",
      "model_module_version": "1.2.0",
      "model_name": "LayoutModel",
      "state": {
       "overflow_x": "scroll"
      }
     },
     "4d8031804056409cba7910bc9dfe78a4": {
      "model_module": "@jupyter-widgets/base",
      "model_module_version": "1.2.0",
      "model_name": "LayoutModel",
      "state": {
       "width": "145px"
      }
     },
     "52ca7b535b9e4608a9545ca491886228": {
      "model_module": "@jupyter-widgets/base",
      "model_module_version": "1.2.0",
      "model_name": "LayoutModel",
      "state": {
       "margin": "0px 0px 0px 37px",
       "width": "600px"
      }
     },
     "55b77ba3a1c74d109dce1f40ce2227ac": {
      "model_module": "@jupyter-widgets/base",
      "model_module_version": "1.2.0",
      "model_name": "LayoutModel",
      "state": {
       "width": "190px"
      }
     },
     "7318e8ab5c394781a542b247d6680b40": {
      "model_module": "@jupyter-widgets/controls",
      "model_module_version": "1.5.0",
      "model_name": "ButtonModel",
      "state": {
       "button_style": "primary",
       "description": "Clear",
       "layout": "IPY_MODEL_0a077191b0534e0698e4461fb5b60225",
       "style": "IPY_MODEL_90ca05f45faa4cb0a388fc9620845e2f"
      }
     },
     "791f94b9cf5648b79bae4ef79f171ba6": {
      "model_module": "@jupyter-widgets/controls",
      "model_module_version": "1.5.0",
      "model_name": "ButtonModel",
      "state": {
       "icon": "close",
       "layout": "IPY_MODEL_85636aaed5384b2490e0d7068917ffe3",
       "style": "IPY_MODEL_ab26bf5cc4df493295d25a2611ec3900"
      }
     },
     "793352ba73f5469b8eb56e6cc93bea9d": {
      "model_module": "@jupyter-widgets/controls",
      "model_module_version": "1.5.0",
      "model_name": "HTMLModel",
      "state": {
       "layout": "IPY_MODEL_a653855aa5d840f089fa5c207a777d9c",
       "style": "IPY_MODEL_ec2d24f2e7044986b011518d238c153a",
       "value": "QUEUED"
      }
     },
     "7b8c298f0e4645c9ace8c7914126e761": {
      "model_module": "@jupyter-widgets/controls",
      "model_module_version": "1.5.0",
      "model_name": "DescriptionStyleModel",
      "state": {
       "description_width": ""
      }
     },
     "7f8ccc3f0b8148c3897929bfe15f66dc": {
      "model_module": "@jupyter-widgets/controls",
      "model_module_version": "1.5.0",
      "model_name": "HTMLModel",
      "state": {
       "layout": "IPY_MODEL_45496b3fdf8443de8d8c64b6ee5d33dc",
       "style": "IPY_MODEL_39903fa5e2d04668945b6611c85bb0d8",
       "value": "610cc845f0dcc013abe95c95"
      }
     },
     "8157a2d655b546b49a2ff914e1d017d1": {
      "model_module": "@jupyter-widgets/base",
      "model_module_version": "1.2.0",
      "model_name": "LayoutModel",
      "state": {
       "width": "190px"
      }
     },
     "82a0af63c830473a9beb7ab7a9883dcc": {
      "model_module": "@jupyter-widgets/controls",
      "model_module_version": "1.5.0",
      "model_name": "HTMLModel",
      "state": {
       "layout": "IPY_MODEL_ca567da0a5854f718666f85d82638daf",
       "style": "IPY_MODEL_e292c108bbe14f8f9545287f4c64ae21",
       "value": "ibmq_manila"
      }
     },
     "85626ea53b0049b3821d1fdb3d3b5ed4": {
      "model_module": "@jupyter-widgets/base",
      "model_module_version": "1.2.0",
      "model_name": "LayoutModel",
      "state": {
       "margin": "0px 5px 0px 0px",
       "width": "32px"
      }
     },
     "85636aaed5384b2490e0d7068917ffe3": {
      "model_module": "@jupyter-widgets/base",
      "model_module_version": "1.2.0",
      "model_name": "LayoutModel",
      "state": {
       "margin": "0px 5px 0px 0px",
       "width": "32px"
      }
     },
     "867a18a2e09448fc9168de4c0cd2c653": {
      "model_module": "@jupyter-widgets/controls",
      "model_module_version": "1.5.0",
      "model_name": "HBoxModel",
      "state": {
       "children": [
        "IPY_MODEL_1b650357cd47404390d4411638a2553c",
        "IPY_MODEL_8c84464c11c847c3ab73f847aec69b86",
        "IPY_MODEL_d5d08ce3765645a0ae9ff2c273a79d85",
        "IPY_MODEL_e7d5f52a14d5446082337522ce4e6386",
        "IPY_MODEL_9d66f2eaebee4c499604cfb22e82f229"
       ],
       "layout": "IPY_MODEL_52ca7b535b9e4608a9545ca491886228"
      }
     },
     "875ceafc95be4db495fae83a481db50c": {
      "model_module": "@jupyter-widgets/base",
      "model_module_version": "1.2.0",
      "model_name": "LayoutModel",
      "state": {
       "overflow_x": "scroll"
      }
     },
     "8a01485f0a464042924c3fd3305d8c05": {
      "model_module": "@jupyter-widgets/controls",
      "model_module_version": "1.5.0",
      "model_name": "HTMLModel",
      "state": {
       "layout": "IPY_MODEL_d7ce058ee3004266856e281a16067f06",
       "style": "IPY_MODEL_0122e2ea42454fafa5375fb8b7462320",
       "value": "<font style='color:#34BC6E'>DONE</font>"
      }
     },
     "8bbfa32bff4946098b58fdc69f5b256b": {
      "model_module": "@jupyter-widgets/base",
      "model_module_version": "1.2.0",
      "model_name": "LayoutModel",
      "state": {
       "overflow_x": "scroll"
      }
     },
     "8c84464c11c847c3ab73f847aec69b86": {
      "model_module": "@jupyter-widgets/controls",
      "model_module_version": "1.5.0",
      "model_name": "HTMLModel",
      "state": {
       "layout": "IPY_MODEL_b2605960356e406d92397e57d2d4d76c",
       "style": "IPY_MODEL_f6765c13808545b39c6b093634fc3c76",
       "value": "<h5>Backend</h5>"
      }
     },
     "8e213450122e4471919fc2e2c519f0f0": {
      "model_module": "@jupyter-widgets/controls",
      "model_module_version": "1.5.0",
      "model_name": "HTMLModel",
      "state": {
       "layout": "IPY_MODEL_e3e92c89426d4872b6054f8d4ea49d4e",
       "style": "IPY_MODEL_f7bff725873b483681b0d400866ebb57",
       "value": "<p style='font-family: IBM Plex Sans, Arial, Helvetica, sans-serif; font-size: 20px; font-weight: medium;'>Circuit Properties</p>"
      }
     },
     "8f342c6a49b342a390b9f10d341295a8": {
      "model_module": "@jupyter-widgets/controls",
      "model_module_version": "1.5.0",
      "model_name": "HTMLModel",
      "state": {
       "layout": "IPY_MODEL_f00f44451e8f4b089aa7e0a6e9b4932f",
       "style": "IPY_MODEL_d521ea156f8549198dfce0e3580776b1",
       "value": "1"
      }
     },
     "9047e3772f5c4d4480ab8eb2b589238f": {
      "model_module": "@jupyter-widgets/controls",
      "model_module_version": "1.5.0",
      "model_name": "HTMLModel",
      "state": {
       "layout": "IPY_MODEL_8157a2d655b546b49a2ff914e1d017d1",
       "style": "IPY_MODEL_aff73683072e41b7a733127574ed007e",
       "value": "610cc8e1d4627c2c4539df6d"
      }
     },
     "9095f0649afc4454b209e88cb17a87bb": {
      "model_module": "@jupyter-widgets/controls",
      "model_module_version": "1.5.0",
      "model_name": "HTMLModel",
      "state": {
       "layout": "IPY_MODEL_4015922097f2423596af2f50710faa39",
       "style": "IPY_MODEL_f57bb2604bc04d3d91d8f936e5ed7cf1",
       "value": "job has successfully run"
      }
     },
     "90ca05f45faa4cb0a388fc9620845e2f": {
      "model_module": "@jupyter-widgets/controls",
      "model_module_version": "1.5.0",
      "model_name": "ButtonStyleModel",
      "state": {}
     },
     "9581562ebe5d4b7fa50b9cbf188ec925": {
      "model_module": "@jupyter-widgets/base",
      "model_module_version": "1.2.0",
      "model_name": "LayoutModel",
      "state": {
       "width": "95px"
      }
     },
     "95fa941b15fe432289b753d5c2efe8ac": {
      "model_module": "@jupyter-widgets/controls",
      "model_module_version": "1.5.0",
      "model_name": "DescriptionStyleModel",
      "state": {
       "description_width": ""
      }
     },
     "9b0d1a6ca4ba4b8d9afd80b9e3f7b617": {
      "model_module": "@jupyter-widgets/controls",
      "model_module_version": "1.5.0",
      "model_name": "DescriptionStyleModel",
      "state": {
       "description_width": ""
      }
     },
     "9b26f2ed282245488909c1b1e8ba604a": {
      "model_module": "@jupyter-widgets/controls",
      "model_module_version": "1.5.0",
      "model_name": "ButtonStyleModel",
      "state": {
       "button_color": "white"
      }
     },
     "9d66b711e00c48eb9440a1e345babe51": {
      "model_module": "@jupyter-widgets/controls",
      "model_module_version": "1.5.0",
      "model_name": "ButtonModel",
      "state": {
       "icon": "close",
       "layout": "IPY_MODEL_85626ea53b0049b3821d1fdb3d3b5ed4",
       "style": "IPY_MODEL_9b26f2ed282245488909c1b1e8ba604a"
      }
     },
     "9d66f2eaebee4c499604cfb22e82f229": {
      "model_module": "@jupyter-widgets/controls",
      "model_module_version": "1.5.0",
      "model_name": "HTMLModel",
      "state": {
       "layout": "IPY_MODEL_081b343114d64ae5961e85eb6f202e7f",
       "style": "IPY_MODEL_9b0d1a6ca4ba4b8d9afd80b9e3f7b617",
       "value": "<h5>Message</h5>"
      }
     },
     "a19d6292ef0b4e75b814f17d37695fbf": {
      "model_module": "@jupyter-widgets/base",
      "model_module_version": "1.2.0",
      "model_name": "LayoutModel",
      "state": {
       "width": "95px"
      }
     },
     "a62a43bb5f5e41f1a93d08e348579463": {
      "model_module": "@jupyter-widgets/controls",
      "model_module_version": "1.5.0",
      "model_name": "HBoxModel",
      "state": {
       "children": [
        "IPY_MODEL_13a405f3e8084aee8cd05fe6c6e19311",
        "IPY_MODEL_7f8ccc3f0b8148c3897929bfe15f66dc",
        "IPY_MODEL_82a0af63c830473a9beb7ab7a9883dcc",
        "IPY_MODEL_b22f5a2d80ae45489c0a3bd5f131432f",
        "IPY_MODEL_36790b81f2284cebb9e3683f60cdd7ae",
        "IPY_MODEL_9095f0649afc4454b209e88cb17a87bb"
       ],
       "layout": "IPY_MODEL_34da9c1feb78401996439a7a5cb3c431"
      }
     },
     "a64dd232c855456bbd7fea46d616bd59": {
      "model_module": "@jupyter-widgets/controls",
      "model_module_version": "1.5.0",
      "model_name": "HTMLModel",
      "state": {
       "layout": "IPY_MODEL_ba7df89f61804884a0dfd15933e1cd28",
       "style": "IPY_MODEL_178987a04dac4961b1316dd993615f7b",
       "value": "610cc7dcd4627c0a4939df63"
      }
     },
     "a653855aa5d840f089fa5c207a777d9c": {
      "model_module": "@jupyter-widgets/base",
      "model_module_version": "1.2.0",
      "model_name": "LayoutModel",
      "state": {
       "width": "95px"
      }
     },
     "a82e7c5354e440da91023c0aacbdf848": {
      "model_module": "@jupyter-widgets/controls",
      "model_module_version": "1.5.0",
      "model_name": "DescriptionStyleModel",
      "state": {
       "description_width": ""
      }
     },
     "ab26bf5cc4df493295d25a2611ec3900": {
      "model_module": "@jupyter-widgets/controls",
      "model_module_version": "1.5.0",
      "model_name": "ButtonStyleModel",
      "state": {
       "button_color": "white"
      }
     },
     "ad6c329710fa4fb6a91609aebf7622fa": {
      "model_module": "@jupyter-widgets/controls",
      "model_module_version": "1.5.0",
      "model_name": "HTMLModel",
      "state": {
       "layout": "IPY_MODEL_e392c58b7095414fa77bf7a37ff7ffba",
       "style": "IPY_MODEL_d8cf6005dc454f8d9593d84a08fe3b38",
       "value": "-"
      }
     },
     "aff73683072e41b7a733127574ed007e": {
      "model_module": "@jupyter-widgets/controls",
      "model_module_version": "1.5.0",
      "model_name": "DescriptionStyleModel",
      "state": {
       "description_width": ""
      }
     },
     "b22f5a2d80ae45489c0a3bd5f131432f": {
      "model_module": "@jupyter-widgets/controls",
      "model_module_version": "1.5.0",
      "model_name": "HTMLModel",
      "state": {
       "layout": "IPY_MODEL_9581562ebe5d4b7fa50b9cbf188ec925",
       "style": "IPY_MODEL_a82e7c5354e440da91023c0aacbdf848",
       "value": "<font style='color:#34BC6E'>DONE</font>"
      }
     },
     "b2605960356e406d92397e57d2d4d76c": {
      "model_module": "@jupyter-widgets/base",
      "model_module_version": "1.2.0",
      "model_name": "LayoutModel",
      "state": {
       "width": "145px"
      }
     },
     "b72a0a32076146b6b2c1034610c2b2b2": {
      "model_module": "@jupyter-widgets/base",
      "model_module_version": "1.2.0",
      "model_name": "LayoutModel",
      "state": {
       "width": "145px"
      }
     },
     "b74d89d7da874ea4927199a842856494": {
      "model_module": "@jupyter-widgets/base",
      "model_module_version": "1.2.0",
      "model_name": "LayoutModel",
      "state": {
       "width": "190px"
      }
     },
     "b851ec2997d046fa807c530b2e0bd635": {
      "model_module": "@jupyter-widgets/base",
      "model_module_version": "1.2.0",
      "model_name": "LayoutModel",
      "state": {
       "width": "70px"
      }
     },
     "b92417126dc34a4fb7ca344f4874151b": {
      "model_module": "@jupyter-widgets/base",
      "model_module_version": "1.2.0",
      "model_name": "LayoutModel",
      "state": {
       "width": "95px"
      }
     },
     "ba7df89f61804884a0dfd15933e1cd28": {
      "model_module": "@jupyter-widgets/base",
      "model_module_version": "1.2.0",
      "model_name": "LayoutModel",
      "state": {
       "width": "190px"
      }
     },
     "c0788228983f454ca49d6c07306f70d4": {
      "model_module": "@jupyter-widgets/base",
      "model_module_version": "1.2.0",
      "model_name": "LayoutModel",
      "state": {
       "grid_template_areas": "\n                                       \". . . . right \"\n                                        ",
       "grid_template_columns": "20% 20% 20% 20% 20%",
       "width": "100%"
      }
     },
     "c25973b8dbf949779ea8f5454f5ccfcc": {
      "model_module": "@jupyter-widgets/controls",
      "model_module_version": "1.5.0",
      "model_name": "HBoxModel",
      "state": {
       "children": [
        "IPY_MODEL_9d66b711e00c48eb9440a1e345babe51",
        "IPY_MODEL_1ce059bd4d714239b6792e18bb59d5aa",
        "IPY_MODEL_0e648363290343a3888816eb1eb844d7",
        "IPY_MODEL_d8474ad805ad4b27ace70d124aaf8a5f",
        "IPY_MODEL_3e511e637d3b46359dfa6ed317bec705",
        "IPY_MODEL_1ecc4612d1db434aa82876e13811b661"
       ],
       "layout": "IPY_MODEL_24df1d477405443b8f1541c749e23efc"
      }
     },
     "ca567da0a5854f718666f85d82638daf": {
      "model_module": "@jupyter-widgets/base",
      "model_module_version": "1.2.0",
      "model_name": "LayoutModel",
      "state": {
       "width": "145px"
      }
     },
     "d3fa91e50dd04bc7a7a1062daadab720": {
      "model_module": "@jupyter-widgets/controls",
      "model_module_version": "1.5.0",
      "model_name": "HBoxModel",
      "state": {
       "children": [
        "IPY_MODEL_fad87be0242745d4a27273e0d6d58c1f",
        "IPY_MODEL_9047e3772f5c4d4480ab8eb2b589238f",
        "IPY_MODEL_d63f37d62cd24db7b9303e4bac309309",
        "IPY_MODEL_793352ba73f5469b8eb56e6cc93bea9d",
        "IPY_MODEL_8f342c6a49b342a390b9f10d341295a8",
        "IPY_MODEL_3a4b3eaf268648aa94440adeb9101981"
       ],
       "layout": "IPY_MODEL_dfc282f64f2b49569308ef41a8c0f606"
      }
     },
     "d521ea156f8549198dfce0e3580776b1": {
      "model_module": "@jupyter-widgets/controls",
      "model_module_version": "1.5.0",
      "model_name": "DescriptionStyleModel",
      "state": {
       "description_width": ""
      }
     },
     "d5d08ce3765645a0ae9ff2c273a79d85": {
      "model_module": "@jupyter-widgets/controls",
      "model_module_version": "1.5.0",
      "model_name": "HTMLModel",
      "state": {
       "layout": "IPY_MODEL_a19d6292ef0b4e75b814f17d37695fbf",
       "style": "IPY_MODEL_047981091c8d438483207067ab6348fb",
       "value": "<h5>Status</h5>"
      }
     },
     "d63f37d62cd24db7b9303e4bac309309": {
      "model_module": "@jupyter-widgets/controls",
      "model_module_version": "1.5.0",
      "model_name": "HTMLModel",
      "state": {
       "layout": "IPY_MODEL_fe850d9fdb50401c994bc85c28e75fbf",
       "style": "IPY_MODEL_41a316275f1942d8a113c1f6cdfda65b",
       "value": "ibmq_manila"
      }
     },
     "d7ce058ee3004266856e281a16067f06": {
      "model_module": "@jupyter-widgets/base",
      "model_module_version": "1.2.0",
      "model_name": "LayoutModel",
      "state": {
       "width": "95px"
      }
     },
     "d8474ad805ad4b27ace70d124aaf8a5f": {
      "model_module": "@jupyter-widgets/controls",
      "model_module_version": "1.5.0",
      "model_name": "HTMLModel",
      "state": {
       "layout": "IPY_MODEL_b92417126dc34a4fb7ca344f4874151b",
       "style": "IPY_MODEL_393db50deaa94fe09fc853091ea0a752",
       "value": "<font style='color:#34BC6E'>DONE</font>"
      }
     },
     "d8cf6005dc454f8d9593d84a08fe3b38": {
      "model_module": "@jupyter-widgets/controls",
      "model_module_version": "1.5.0",
      "model_name": "DescriptionStyleModel",
      "state": {
       "description_width": ""
      }
     },
     "dfc282f64f2b49569308ef41a8c0f606": {
      "model_module": "@jupyter-widgets/base",
      "model_module_version": "1.2.0",
      "model_name": "LayoutModel",
      "state": {
       "max_width": "700px",
       "min_width": "700px"
      }
     },
     "e292c108bbe14f8f9545287f4c64ae21": {
      "model_module": "@jupyter-widgets/controls",
      "model_module_version": "1.5.0",
      "model_name": "DescriptionStyleModel",
      "state": {
       "description_width": ""
      }
     },
     "e392c58b7095414fa77bf7a37ff7ffba": {
      "model_module": "@jupyter-widgets/base",
      "model_module_version": "1.2.0",
      "model_name": "LayoutModel",
      "state": {
       "width": "70px"
      }
     },
     "e3e92c89426d4872b6054f8d4ea49d4e": {
      "model_module": "@jupyter-widgets/base",
      "model_module_version": "1.2.0",
      "model_name": "LayoutModel",
      "state": {
       "margin": "0px 0px 10px 0px"
      }
     },
     "e56ce6660baa4cf5b8a18d659ae9b183": {
      "model_module": "@jupyter-widgets/controls",
      "model_module_version": "1.5.0",
      "model_name": "DescriptionStyleModel",
      "state": {
       "description_width": ""
      }
     },
     "e7b95adfe5f546fd989ee3e62181509b": {
      "model_module": "@jupyter-widgets/controls",
      "model_module_version": "1.5.0",
      "model_name": "ButtonStyleModel",
      "state": {
       "button_color": "white"
      }
     },
     "e7d5f52a14d5446082337522ce4e6386": {
      "model_module": "@jupyter-widgets/controls",
      "model_module_version": "1.5.0",
      "model_name": "HTMLModel",
      "state": {
       "layout": "IPY_MODEL_05b8d1aac10541bcbc1377d1bfd6cbfb",
       "style": "IPY_MODEL_e9bd819d4759445cafb0250726547a9c",
       "value": "<h5>Queue</h5>"
      }
     },
     "e8537343abe9458694069bb92db97c9d": {
      "model_module": "@jupyter-widgets/controls",
      "model_module_version": "1.5.0",
      "model_name": "DescriptionStyleModel",
      "state": {
       "description_width": ""
      }
     },
     "e8fcfb5e70f5464b8896ab9b868a754d": {
      "model_module": "@jupyter-widgets/controls",
      "model_module_version": "1.5.0",
      "model_name": "DescriptionStyleModel",
      "state": {
       "description_width": ""
      }
     },
     "e9bd819d4759445cafb0250726547a9c": {
      "model_module": "@jupyter-widgets/controls",
      "model_module_version": "1.5.0",
      "model_name": "DescriptionStyleModel",
      "state": {
       "description_width": ""
      }
     },
     "ec2d24f2e7044986b011518d238c153a": {
      "model_module": "@jupyter-widgets/controls",
      "model_module_version": "1.5.0",
      "model_name": "DescriptionStyleModel",
      "state": {
       "description_width": ""
      }
     },
     "f00f44451e8f4b089aa7e0a6e9b4932f": {
      "model_module": "@jupyter-widgets/base",
      "model_module_version": "1.2.0",
      "model_name": "LayoutModel",
      "state": {
       "width": "70px"
      }
     },
     "f57bb2604bc04d3d91d8f936e5ed7cf1": {
      "model_module": "@jupyter-widgets/controls",
      "model_module_version": "1.5.0",
      "model_name": "DescriptionStyleModel",
      "state": {
       "description_width": ""
      }
     },
     "f6765c13808545b39c6b093634fc3c76": {
      "model_module": "@jupyter-widgets/controls",
      "model_module_version": "1.5.0",
      "model_name": "DescriptionStyleModel",
      "state": {
       "description_width": ""
      }
     },
     "f7bff725873b483681b0d400866ebb57": {
      "model_module": "@jupyter-widgets/controls",
      "model_module_version": "1.5.0",
      "model_name": "DescriptionStyleModel",
      "state": {
       "description_width": ""
      }
     },
     "fa327d5f7b08487aad048c688c1f3301": {
      "model_module": "@jupyter-widgets/controls",
      "model_module_version": "1.5.0",
      "model_name": "HBoxModel",
      "state": {
       "children": [
        "IPY_MODEL_791f94b9cf5648b79bae4ef79f171ba6",
        "IPY_MODEL_a64dd232c855456bbd7fea46d616bd59",
        "IPY_MODEL_2c3e7b3a51c84c69acb55cb44b414ddb",
        "IPY_MODEL_8a01485f0a464042924c3fd3305d8c05",
        "IPY_MODEL_ad6c329710fa4fb6a91609aebf7622fa",
        "IPY_MODEL_40e9436606a740b59e71479b57a01638"
       ],
       "layout": "IPY_MODEL_271877d7a9ba403fbc7d68a4cb1dd40f"
      }
     },
     "fad87be0242745d4a27273e0d6d58c1f": {
      "model_module": "@jupyter-widgets/controls",
      "model_module_version": "1.5.0",
      "model_name": "ButtonModel",
      "state": {
       "icon": "close",
       "layout": "IPY_MODEL_379101f96d5345b1954b4160ddd57c12",
       "style": "IPY_MODEL_e7b95adfe5f546fd989ee3e62181509b"
      }
     },
     "fe850d9fdb50401c994bc85c28e75fbf": {
      "model_module": "@jupyter-widgets/base",
      "model_module_version": "1.2.0",
      "model_name": "LayoutModel",
      "state": {
       "width": "145px"
      }
     }
    },
    "version_major": 2,
    "version_minor": 0
   }
  }
 },
 "nbformat": 4,
 "nbformat_minor": 5
}
