{
 "cells": [
  {
   "cell_type": "code",
   "execution_count": 46,
   "id": "8333eca6-062d-434f-a81e-15e758b5e954",
   "metadata": {},
   "outputs": [
    {
     "name": "stderr",
     "output_type": "stream",
     "text": [
      "ibmqfactory.load_account:WARNING:2021-08-09 09:54:15,795: Credentials are already in use. The existing account in the session will be replaced.\n"
     ]
    }
   ],
   "source": [
    "import numpy as np\n",
    "\n",
    "# Importing standard Qiskit libraries\n",
    "from qiskit import QuantumCircuit, transpile, Aer, IBMQ\n",
    "from qiskit.tools.jupyter import *\n",
    "from qiskit.visualization import *\n",
    "from ibm_quantum_widgets import *\n",
    "from qiskit.providers.aer import QasmSimulator\n",
    "\n",
    "# Loading your IBM Quantum account(s)\n",
    "provider = IBMQ.load_account()"
   ]
  },
  {
   "cell_type": "code",
   "execution_count": 47,
   "id": "4dbb1229-8808-4e35-ad36-fcfa10b53c30",
   "metadata": {},
   "outputs": [],
   "source": [
    "import qiskit\n",
    "from qiskit import QuantumCircuit, ClassicalRegister, QuantumRegister, transpile\n",
    "from qiskit.tools.visualization import circuit_drawer\n",
    "from qiskit.tools.monitor import job_monitor, backend_monitor, backend_overview\n",
    "from qiskit.providers.aer import noise\n",
    "\n",
    "\n",
    "# and some tools \n",
    "import time\n",
    "import matplotlib.pyplot as plt\n"
   ]
  },
  {
   "cell_type": "code",
   "execution_count": 48,
   "id": "7666e4a1-47d1-40a9-a02f-d09ee6098074",
   "metadata": {},
   "outputs": [],
   "source": [
    "# the simulator\n",
    "sim = Aer.get_backend('aer_simulator')"
   ]
  },
  {
   "cell_type": "code",
   "execution_count": 49,
   "id": "f947ade1-a126-47c9-9a9c-3c90b42741fe",
   "metadata": {},
   "outputs": [],
   "source": [
    "def chsh_circuit(theta_vec):\n",
    "    \"\"\"Return a list of QuantumCircuits for use in a CHSH experiemnt\n",
    "    (one for each value of theta in theta_vec)\n",
    "    \n",
    "        Args:\n",
    "            theta_vec (list): list of values of angles between the bases of Alice and Bob\n",
    "        \n",
    "        Returns:\n",
    "            List[QuantumCircuit]: CHSH QuantumCircuits for each value of theta\n",
    "    \"\"\"\n",
    "    chsh_circuits = []\n",
    "    \n",
    "    for theta in theta_vec:\n",
    "        obs_vec = ['00', '01', '10', '11']\n",
    "        for el in obs_vec:\n",
    "            qc = QuantumCircuit(2,2)\n",
    "            qc.h(0)\n",
    "            qc.cx(0, 1)\n",
    "            qc.ry(theta, 0)\n",
    "            for a in range(2):\n",
    "                if el[a] == '1':\n",
    "                    qc.h(a) \n",
    "            qc.measure(range(2),range(2))\n",
    "            chsh_circuits.append(qc)\n",
    "\n",
    "    return chsh_circuits  "
   ]
  },
  {
   "cell_type": "code",
   "execution_count": 50,
   "id": "f0d9adeb-f869-4548-9a92-27e305020a72",
   "metadata": {},
   "outputs": [],
   "source": [
    "def compute_chsh_witness(counts):\n",
    "    \"\"\"Computes expectation values for the CHSH inequality, for each\n",
    "    angle (theta) between measurement axis.\n",
    "\n",
    "        Args: counts (list[dict]): dict of counts for each experiment\n",
    "              (4 per value of theta)\n",
    "\n",
    "        Returns:\n",
    "            Tuple(List, List): Tuple of lists with the two CHSH witnesses\n",
    "    \"\"\"\n",
    "    # Order is ZZ,ZX,XZ,XX\n",
    "    \n",
    "    CHSH1 = []\n",
    "    CHSH2 = []\n",
    "    # Divide the list of dictionaries in sets of 4\n",
    "    for i in range(0, len(counts), 4):  \n",
    "        theta_dict = counts[i:i + 4]\n",
    "        zz = theta_dict[0]\n",
    "        zx = theta_dict[1]\n",
    "        xz = theta_dict[2]\n",
    "        xx = theta_dict[3]\n",
    "\n",
    "        no_shots = sum(xx[y] for y in xx)\n",
    "\n",
    "        chsh1 = 0\n",
    "        chsh2 = 0\n",
    "\n",
    "        for element in zz:\n",
    "            parity = (-1)**(int(element[0])+int(element[1]))\n",
    "            chsh1+= parity*zz[element]\n",
    "            chsh2+= parity*zz[element]\n",
    "\n",
    "        for element in zx:\n",
    "            parity = (-1)**(int(element[0])+int(element[1]))\n",
    "            chsh1+= parity*zx[element]\n",
    "            chsh2-= parity*zx[element]\n",
    "\n",
    "        for element in xz:\n",
    "            parity = (-1)**(int(element[0])+int(element[1]))\n",
    "            chsh1-= parity*xz[element]\n",
    "            chsh2+= parity*xz[element]\n",
    "\n",
    "        for element in xx:\n",
    "            parity = (-1)**(int(element[0])+int(element[1]))\n",
    "            chsh1+= parity*xx[element]\n",
    "            chsh2+= parity*xx[element]\n",
    "\n",
    "        CHSH1.append(chsh1/no_shots)\n",
    "        CHSH2.append(chsh2/no_shots)\n",
    "    \n",
    "    return CHSH1, CHSH2"
   ]
  },
  {
   "cell_type": "code",
   "execution_count": 51,
   "id": "2afcbf15-9b29-444a-bb09-743df0a82344",
   "metadata": {},
   "outputs": [],
   "source": [
    "number_of_thetas = 18\n",
    "theta_vec = np.linspace(0,2*np.pi,number_of_thetas)\n",
    "my_chsh_circuits = chsh_circuit(theta_vec)"
   ]
  },
  {
   "cell_type": "code",
   "execution_count": 52,
   "id": "34bf73fc-069f-4d63-b972-39001899c8b2",
   "metadata": {},
   "outputs": [
    {
     "data": {
      "image/png": "[encoded data removed]",
      "text/plain": [
       "<Figure size 387.452x204.68 with 1 Axes>"
      ]
     },
     "execution_count": 52,
     "metadata": {},
     "output_type": "execute_result"
    }
   ],
   "source": [
    "my_chsh_circuits[6].draw()"
   ]
  },
  {
   "cell_type": "code",
   "execution_count": 53,
   "id": "a24817d5-6d42-419c-8ec7-733b9ebb039e",
   "metadata": {},
   "outputs": [
    {
     "name": "stderr",
     "output_type": "stream",
     "text": [
      "ibmqfactory.load_account:WARNING:2021-08-09 09:54:20,422: Credentials are already in use. The existing account in the session will be replaced.\n",
      "ibmqfactory.load_account:WARNING:2021-08-09 09:54:22,711: Credentials are already in use. The existing account in the session will be replaced.\n"
     ]
    },
    {
     "name": "stdout",
     "output_type": "stream",
     "text": [
      "we are executing on ... ibmq_belem\n"
     ]
    }
   ],
   "source": [
    "# Set devices, if using a real device\n",
    "IBMQ.load_account()\n",
    "# run on a quantum computer\n",
    "\n",
    "from qiskit.providers.ibmq import least_busy\n",
    "\n",
    "provider = IBMQ.load_account()\n",
    "\n",
    "backend = least_busy(provider.backends(operational = True, simulator = False, status_msg='active',\n",
    "                                      filters=lambda x: x.configuration().n_qubits >2))\n",
    "print(\"we are executing on ...\", backend)\n",
    "\n",
    "#print(winning_probability(backend))\n",
    "#provider = IBMQ.get_provider('ibm-q')\n",
    "#quito = provider.get_backend(backend = backend)"
   ]
  },
  {
   "cell_type": "code",
   "execution_count": 54,
   "id": "64d77923-303e-4014-a9e3-e98ffc190687",
   "metadata": {},
   "outputs": [
    {
     "name": "stdout",
     "output_type": "stream",
     "text": [
      "Job Status: job has successfully run\n",
      "184.28710103034973\n"
     ]
    }
   ],
   "source": [
    "# Execute and get counts\n",
    "result_ideal = sim.run(my_chsh_circuits).result()\n",
    "\n",
    "tic = time.time()\n",
    "transpiled_circuits = transpile(my_chsh_circuits, quito)\n",
    "job_real = backend.run(transpiled_circuits, shots=8192)\n",
    "job_monitor(job_real)\n",
    "result_real = job_real.result()\n",
    "toc = time.time()\n",
    "\n",
    "print(toc-tic)"
   ]
  },
  {
   "cell_type": "code",
   "execution_count": null,
   "id": "e6a44146-9704-43d0-82bf-1fb8359c2150",
   "metadata": {},
   "outputs": [],
   "source": []
  },
  {
   "cell_type": "code",
   "execution_count": 55,
   "id": "bec6e3b9-a035-4ca2-ac22-37c6fe601bbe",
   "metadata": {},
   "outputs": [],
   "source": [
    "CHSH1_ideal, CHSH2_ideal = compute_chsh_witness(result_ideal.get_counts())\n",
    "CHSH1_real, CHSH2_real = compute_chsh_witness(result_real.get_counts())"
   ]
  },
  {
   "cell_type": "code",
   "execution_count": 56,
   "id": "ae7fa1f0-cb40-4568-8f13-acc1b544bb3b",
   "metadata": {},
   "outputs": [
    {
     "data": {
      "text/plain": [
       "Text(0, 0.5, 'CHSH value')"
      ]
     },
     "execution_count": 56,
     "metadata": {},
     "output_type": "execute_result"
    },
    {
     "data": {
      "image/png": "[encoded data removed]",
      "text/plain": [
       "<Figure size 864x576 with 1 Axes>"
      ]
     },
     "metadata": {
      "needs_background": "light"
     },
     "output_type": "display_data"
    }
   ],
   "source": [
    "plt.figure(figsize=(12,8))\n",
    "plt.rcParams.update({'font.size': 22})\n",
    "plt.plot(theta_vec,CHSH1_ideal,'o-',label = 'CHSH1 Noiseless')\n",
    "plt.plot(theta_vec,CHSH2_ideal,'o-',label = 'CHSH2 Noiseless')\n",
    "\n",
    "plt.plot(theta_vec,CHSH1_real,'x-',label = 'CHSH1 Quantum Computer')\n",
    "plt.plot(theta_vec,CHSH2_real,'x-',label = 'CHSH2 Quantum Computer')\n",
    "\n",
    "plt.grid(which='major',axis='both')\n",
    "plt.rcParams.update({'font.size': 16})\n",
    "plt.legend()\n",
    "plt.axhline(y=2, color='b', linestyle='-')\n",
    "plt.axhline(y=-2, color='b', linestyle='-')\n",
    "plt.axhline(y=np.sqrt(2)*2, color='r', linestyle='-.')\n",
    "plt.axhline(y=-np.sqrt(2)*2, color='r', linestyle='-.')\n",
    "plt.xlabel('Theta')\n",
    "plt.ylabel('CHSH value')"
   ]
  },
  {
   "cell_type": "code",
   "execution_count": null,
   "id": "e5ee6e0d-d93c-4b3d-a898-3edf0bd40304",
   "metadata": {},
   "outputs": [],
   "source": []
  },
  {
   "cell_type": "code",
   "execution_count": null,
   "id": "c05d49cf-d116-4c48-9362-05ebcf0d4d0c",
   "metadata": {},
   "outputs": [],
   "source": []
  }
 ],
 "metadata": {
  "kernelspec": {
   "display_name": "Qiskit v0.29.0",
   "language": "python",
   "name": "python3"
  },
  "language_info": {
   "codemirror_mode": {
    "name": "ipython",
    "version": 3
   },
   "file_extension": ".py",
   "mimetype": "text/x-python",
   "name": "python",
   "nbconvert_exporter": "python",
   "pygments_lexer": "ipython3",
   "version": "3.8.10"
  },
  "widgets": {
   "application/vnd.jupyter.widget-state+json": {
    "state": {
     "016ec8df53c14ad8a369a39507756799": {
      "model_module": "@jupyter-widgets/base",
      "model_module_version": "1.2.0",
      "model_name": "LayoutModel",
      "state": {
       "margin": "0px 5px 0px 0px",
       "width": "32px"
      }
     },
     "0237428cafb9450b8de4233279701351": {
      "model_module": "@jupyter-widgets/controls",
      "model_module_version": "1.5.0",
      "model_name": "HTMLModel",
      "state": {
       "layout": "IPY_MODEL_ec67ac590b194fda883615eca8fd6274",
       "style": "IPY_MODEL_c1017823ed59425c94c4e2caf711ff42",
       "value": "6110ee5eb0d6ba08374f415b"
      }
     },
     "0239c7f0d4134a71a16c0405a921dfc5": {
      "model_module": "@jupyter-widgets/base",
      "model_module_version": "1.2.0",
      "model_name": "LayoutModel",
      "state": {
       "overflow_x": "scroll"
      }
     },
     "0251d28a419e4b90bce9d855405d8711": {
      "model_module": "@jupyter-widgets/base",
      "model_module_version": "1.2.0",
      "model_name": "LayoutModel",
      "state": {
       "width": "95px"
      }
     },
     "02c9216e05a549cc89e49b72ec254a7e": {
      "model_module": "@jupyter-widgets/controls",
      "model_module_version": "1.5.0",
      "model_name": "DescriptionStyleModel",
      "state": {
       "description_width": ""
      }
     },
     "04b0884f5a7f4287b39f67d8d3289c5c": {
      "model_module": "@jupyter-widgets/controls",
      "model_module_version": "1.5.0",
      "model_name": "HBoxModel",
      "state": {
       "children": [
        "IPY_MODEL_536569a06fa24de98d0b364a57859bde",
        "IPY_MODEL_bf8da4b61a01449690af22d95ab487ff",
        "IPY_MODEL_ffd4a625ca404606a3d03051d7b6cbb7",
        "IPY_MODEL_9afbf715981142ec977438a17a5bdf73",
        "IPY_MODEL_31541dc8a5874d659ef01c96149f7b66",
        "IPY_MODEL_bbe74b017c944f568eebba3fff5b4689"
       ],
       "layout": "IPY_MODEL_4868ad8bb99144849737ffe0b70e94b7"
      }
     },
     "07891fa2238745a98c20fb2ac945ddda": {
      "model_module": "@jupyter-widgets/controls",
      "model_module_version": "1.5.0",
      "model_name": "HTMLModel",
      "state": {
       "layout": "IPY_MODEL_97be9346dfd1421ba70716a0036fbc5d",
       "style": "IPY_MODEL_4910557525c2491f99c332a73688659f",
       "value": "job incurred error"
      }
     },
     "09da1e54f5bd4dd4a1c4299df154af5f": {
      "model_module": "@jupyter-widgets/controls",
      "model_module_version": "1.5.0",
      "model_name": "DescriptionStyleModel",
      "state": {
       "description_width": ""
      }
     },
     "0a43f1fe1c684410a0a4ce47967de68d": {
      "model_module": "@jupyter-widgets/base",
      "model_module_version": "1.2.0",
      "model_name": "LayoutModel",
      "state": {
       "max_width": "700px",
       "min_width": "700px"
      }
     },
     "0a56f694e3df4baa890b32a8e815d87d": {
      "model_module": "@jupyter-widgets/base",
      "model_module_version": "1.2.0",
      "model_name": "LayoutModel",
      "state": {
       "width": "95px"
      }
     },
     "0c5693ec49744e239cb64d25f661dbbc": {
      "model_module": "@jupyter-widgets/controls",
      "model_module_version": "1.5.0",
      "model_name": "DescriptionStyleModel",
      "state": {
       "description_width": ""
      }
     },
     "0c75688fdd404c7e8624bd0d6b335a48": {
      "model_module": "@jupyter-widgets/base",
      "model_module_version": "1.2.0",
      "model_name": "LayoutModel",
      "state": {
       "width": "145px"
      }
     },
     "0d8b3e7e0d864d5c8c1ae868c9283e8e": {
      "model_module": "@jupyter-widgets/controls",
      "model_module_version": "1.5.0",
      "model_name": "DescriptionStyleModel",
      "state": {
       "description_width": ""
      }
     },
     "0db46514069e46a6be58b98c81a624ff": {
      "model_module": "@jupyter-widgets/controls",
      "model_module_version": "1.5.0",
      "model_name": "HTMLModel",
      "state": {
       "layout": "IPY_MODEL_2815006a4d7f4aaca9aaebb673456a94",
       "style": "IPY_MODEL_ac9c5cdf662c4d1da67581c30567e451",
       "value": "<h5>Queue</h5>"
      }
     },
     "0dc88761db2e45938a4ab6f1e8321e3e": {
      "model_module": "@jupyter-widgets/base",
      "model_module_version": "1.2.0",
      "model_name": "LayoutModel",
      "state": {
       "width": "70px"
      }
     },
     "0f3e014ae42d4e0d8551dffaac1b7046": {
      "model_module": "@jupyter-widgets/base",
      "model_module_version": "1.2.0",
      "model_name": "LayoutModel",
      "state": {
       "width": "145px"
      }
     },
     "11681d46630c4a1e8c7c88d9a285acfb": {
      "model_module": "@jupyter-widgets/controls",
      "model_module_version": "1.5.0",
      "model_name": "HTMLModel",
      "state": {
       "layout": "IPY_MODEL_ce42f2ca96c94c3f84449fdf9e92d857",
       "style": "IPY_MODEL_ca798fdb68d143b79bd631117cc32f5b",
       "value": "<h5>Backend</h5>"
      }
     },
     "121e32ce68ad440799201930c56e4778": {
      "model_module": "@jupyter-widgets/controls",
      "model_module_version": "1.5.0",
      "model_name": "HBoxModel",
      "state": {
       "children": [
        "IPY_MODEL_63611198240744e882856e3765e423d5",
        "IPY_MODEL_45bb105a34684bb9bfc7954f2b7affee",
        "IPY_MODEL_36d1701ab04d40368973c4fb34c67c50",
        "IPY_MODEL_82279892a4204896b4c19481683d0fe7",
        "IPY_MODEL_aaa745f85a4f4b4981d81c8a47dbece3",
        "IPY_MODEL_be2057baed154940876a857e41995ea8"
       ],
       "layout": "IPY_MODEL_0a43f1fe1c684410a0a4ce47967de68d"
      }
     },
     "13cc2dc0a94c4f3b8602e98fd233b072": {
      "model_module": "@jupyter-widgets/controls",
      "model_module_version": "1.5.0",
      "model_name": "ButtonModel",
      "state": {
       "icon": "close",
       "layout": "IPY_MODEL_016ec8df53c14ad8a369a39507756799",
       "style": "IPY_MODEL_d7a1a752d7ef42b682ee0ec4600f8d75"
      }
     },
     "13fd0d9aa20d4ab38e84afb0f7781fa1": {
      "model_module": "@jupyter-widgets/base",
      "model_module_version": "1.2.0",
      "model_name": "LayoutModel",
      "state": {
       "width": "95px"
      }
     },
     "16157fe819d349db892ce94d7255494f": {
      "model_module": "@jupyter-widgets/controls",
      "model_module_version": "1.5.0",
      "model_name": "ButtonModel",
      "state": {
       "icon": "close",
       "layout": "IPY_MODEL_2a62339af0d94becaf7ac7d5872f7321",
       "style": "IPY_MODEL_e4b501b56fce47f39cad8a1b54d91e43"
      }
     },
     "1764f6fd3a5045f281459f95696f8260": {
      "model_module": "@jupyter-widgets/controls",
      "model_module_version": "1.5.0",
      "model_name": "DescriptionStyleModel",
      "state": {
       "description_width": ""
      }
     },
     "17829656c49f4cb2af451e7ea72528f0": {
      "model_module": "@jupyter-widgets/controls",
      "model_module_version": "1.5.0",
      "model_name": "DescriptionStyleModel",
      "state": {
       "description_width": ""
      }
     },
     "1867fea21a0b4c0ebe796b5da27508df": {
      "model_module": "@jupyter-widgets/controls",
      "model_module_version": "1.5.0",
      "model_name": "DescriptionStyleModel",
      "state": {
       "description_width": ""
      }
     },
     "1a4de73289c2478487a9346ae651af5d": {
      "model_module": "@jupyter-widgets/base",
      "model_module_version": "1.2.0",
      "model_name": "LayoutModel",
      "state": {
       "overflow_x": "scroll"
      }
     },
     "1c555c3dc2b341ffa22e44ca44aa5f4b": {
      "model_module": "@jupyter-widgets/base",
      "model_module_version": "1.2.0",
      "model_name": "LayoutModel",
      "state": {
       "margin": "0px 5px 0px 0px",
       "width": "32px"
      }
     },
     "1e2345e52d3a4f7d97a290712759e619": {
      "model_module": "@jupyter-widgets/base",
      "model_module_version": "1.2.0",
      "model_name": "LayoutModel",
      "state": {
       "width": "190px"
      }
     },
     "1fb2dee76e8547f1ac7a885de9d39f9a": {
      "model_module": "@jupyter-widgets/controls",
      "model_module_version": "1.5.0",
      "model_name": "HTMLModel",
      "state": {
       "layout": "IPY_MODEL_13fd0d9aa20d4ab38e84afb0f7781fa1",
       "style": "IPY_MODEL_dc51892b5c9746d7906e4c6e98025d0d",
       "value": "<font style='color:#DC267F'>ERROR</font>"
      }
     },
     "205fa537dfcf49aaa282ad1579b22d98": {
      "model_module": "@jupyter-widgets/controls",
      "model_module_version": "1.5.0",
      "model_name": "HTMLModel",
      "state": {
       "layout": "IPY_MODEL_6a07f6c33ac24cdcb0921ad10961645a",
       "style": "IPY_MODEL_7a24186020cf4fb9998b9aeb9da8c70f",
       "value": "6110ecaff0dcc0e021e982c1"
      }
     },
     "22a41b45849444ca85dd939a36309b59": {
      "model_module": "@jupyter-widgets/controls",
      "model_module_version": "1.5.0",
      "model_name": "HTMLModel",
      "state": {
       "layout": "IPY_MODEL_0239c7f0d4134a71a16c0405a921dfc5",
       "style": "IPY_MODEL_a17089d2b3694a678976ac248a0fa0e0",
       "value": "job has successfully run"
      }
     },
     "26eaea5a33f543239cb74f93c241a48b": {
      "model_module": "@jupyter-widgets/base",
      "model_module_version": "1.2.0",
      "model_name": "LayoutModel",
      "state": {}
     },
     "2815006a4d7f4aaca9aaebb673456a94": {
      "model_module": "@jupyter-widgets/base",
      "model_module_version": "1.2.0",
      "model_name": "LayoutModel",
      "state": {
       "width": "70px"
      }
     },
     "2a62339af0d94becaf7ac7d5872f7321": {
      "model_module": "@jupyter-widgets/base",
      "model_module_version": "1.2.0",
      "model_name": "LayoutModel",
      "state": {
       "margin": "0px 5px 0px 0px",
       "width": "32px"
      }
     },
     "2a9cb837ea4f42d19664fc78cdeb8202": {
      "model_module": "@jupyter-widgets/base",
      "model_module_version": "1.2.0",
      "model_name": "LayoutModel",
      "state": {
       "width": "190px"
      }
     },
     "2f140441f5844d2c986eb999b3f6b474": {
      "model_module": "@jupyter-widgets/base",
      "model_module_version": "1.2.0",
      "model_name": "LayoutModel",
      "state": {
       "overflow_x": "scroll"
      }
     },
     "309b47afa5644b05b2905da25ce90158": {
      "model_module": "@jupyter-widgets/base",
      "model_module_version": "1.2.0",
      "model_name": "LayoutModel",
      "state": {
       "max_width": "700px",
       "min_width": "700px"
      }
     },
     "30ec3be737e14b3790c352d500a93fee": {
      "model_module": "@jupyter-widgets/controls",
      "model_module_version": "1.5.0",
      "model_name": "HTMLModel",
      "state": {
       "layout": "IPY_MODEL_a009eac79b25417484ce30b0878ad5ab",
       "style": "IPY_MODEL_501a40686d02443c91d8cb2f517d151a",
       "value": "job incurred error"
      }
     },
     "31541dc8a5874d659ef01c96149f7b66": {
      "model_module": "@jupyter-widgets/controls",
      "model_module_version": "1.5.0",
      "model_name": "HTMLModel",
      "state": {
       "layout": "IPY_MODEL_be0a3d20ccfb459184a91b9b38d8ed4e",
       "style": "IPY_MODEL_cd74eaa6388049fa87d7e4b8167d439b",
       "value": "-"
      }
     },
     "315639af649e4859991fd104720503b4": {
      "model_module": "@jupyter-widgets/controls",
      "model_module_version": "1.5.0",
      "model_name": "ButtonStyleModel",
      "state": {
       "button_color": "white"
      }
     },
     "36d1701ab04d40368973c4fb34c67c50": {
      "model_module": "@jupyter-widgets/controls",
      "model_module_version": "1.5.0",
      "model_name": "HTMLModel",
      "state": {
       "layout": "IPY_MODEL_c4e4595a19fd41eea1d7c2e615dd751f",
       "style": "IPY_MODEL_6e193286d9884b48a8bcc37f646b3f38",
       "value": "ibmq_belem"
      }
     },
     "3ca171bd73704735bcb727c0404c684d": {
      "model_module": "@jupyter-widgets/controls",
      "model_module_version": "1.5.0",
      "model_name": "DescriptionStyleModel",
      "state": {
       "description_width": ""
      }
     },
     "3d281d50f44941bcbd0d48a59c1972d0": {
      "model_module": "@jupyter-widgets/base",
      "model_module_version": "1.2.0",
      "model_name": "LayoutModel",
      "state": {
       "width": "145px"
      }
     },
     "3d713bcc803745de8ff27ec160f7fe77": {
      "model_module": "@jupyter-widgets/controls",
      "model_module_version": "1.5.0",
      "model_name": "HTMLModel",
      "state": {
       "layout": "IPY_MODEL_2a9cb837ea4f42d19664fc78cdeb8202",
       "style": "IPY_MODEL_527d9c1889d143debc0bab06dff63d8c",
       "value": "6110ee7bb0d6bab12c4f415d"
      }
     },
     "3e969134571d44cf80707ebdb769d6ad": {
      "model_module": "@jupyter-widgets/base",
      "model_module_version": "1.2.0",
      "model_name": "LayoutModel",
      "state": {
       "width": "190px"
      }
     },
     "3eedaeb9659f4ae5a98473704772a26c": {
      "model_module": "@jupyter-widgets/base",
      "model_module_version": "1.2.0",
      "model_name": "LayoutModel",
      "state": {
       "width": "95px"
      }
     },
     "40aa575b5f814f358d9f49be9016046e": {
      "model_module": "@jupyter-widgets/base",
      "model_module_version": "1.2.0",
      "model_name": "LayoutModel",
      "state": {
       "max_width": "700px",
       "min_width": "700px"
      }
     },
     "45bb105a34684bb9bfc7954f2b7affee": {
      "model_module": "@jupyter-widgets/controls",
      "model_module_version": "1.5.0",
      "model_name": "HTMLModel",
      "state": {
       "layout": "IPY_MODEL_45ef8b2fd0354d64b1ff88508ea74792",
       "style": "IPY_MODEL_db19c9a1608c43c1b0eb63d881890119",
       "value": "6110ee98f0dcc0af38e982ca"
      }
     },
     "45ef8b2fd0354d64b1ff88508ea74792": {
      "model_module": "@jupyter-widgets/base",
      "model_module_version": "1.2.0",
      "model_name": "LayoutModel",
      "state": {
       "width": "190px"
      }
     },
     "483e950b766f4fa0bf880a61002a5c86": {
      "model_module": "@jupyter-widgets/controls",
      "model_module_version": "1.5.0",
      "model_name": "DescriptionStyleModel",
      "state": {
       "description_width": ""
      }
     },
     "4868ad8bb99144849737ffe0b70e94b7": {
      "model_module": "@jupyter-widgets/base",
      "model_module_version": "1.2.0",
      "model_name": "LayoutModel",
      "state": {
       "max_width": "700px",
       "min_width": "700px"
      }
     },
     "4910557525c2491f99c332a73688659f": {
      "model_module": "@jupyter-widgets/controls",
      "model_module_version": "1.5.0",
      "model_name": "DescriptionStyleModel",
      "state": {
       "description_width": ""
      }
     },
     "49f99e60008c41178bb7b0b42f3ae039": {
      "model_module": "@jupyter-widgets/controls",
      "model_module_version": "1.5.0",
      "model_name": "ButtonStyleModel",
      "state": {
       "button_color": "white"
      }
     },
     "4a98b1fb0b60417fa73ae47ed78fe6f5": {
      "model_module": "@jupyter-widgets/base",
      "model_module_version": "1.2.0",
      "model_name": "LayoutModel",
      "state": {
       "width": "95px"
      }
     },
     "4ad07664250747d7aef9c007f80556a2": {
      "model_module": "@jupyter-widgets/base",
      "model_module_version": "1.2.0",
      "model_name": "LayoutModel",
      "state": {
       "max_width": "700px",
       "min_width": "700px"
      }
     },
     "4ca31c37e5974604bf74cf04a2ec8822": {
      "model_module": "@jupyter-widgets/controls",
      "model_module_version": "1.5.0",
      "model_name": "DescriptionStyleModel",
      "state": {
       "description_width": ""
      }
     },
     "4e49079c5fb24bb8864acd37dbb47565": {
      "model_module": "@jupyter-widgets/controls",
      "model_module_version": "1.5.0",
      "model_name": "DescriptionStyleModel",
      "state": {
       "description_width": ""
      }
     },
     "4e4d66135b4f4d7998b9ebd7c5b70944": {
      "model_module": "@jupyter-widgets/base",
      "model_module_version": "1.2.0",
      "model_name": "LayoutModel",
      "state": {
       "margin": "0px 5px 0px 0px",
       "width": "32px"
      }
     },
     "4f1e530d5c914cde8aafe95f68f316fa": {
      "model_module": "@jupyter-widgets/controls",
      "model_module_version": "1.5.0",
      "model_name": "HTMLModel",
      "state": {
       "layout": "IPY_MODEL_3e969134571d44cf80707ebdb769d6ad",
       "style": "IPY_MODEL_e4739c9394fa4969b98a7d75c17f94f2",
       "value": "6110e5d5ad528e30148db964"
      }
     },
     "501a40686d02443c91d8cb2f517d151a": {
      "model_module": "@jupyter-widgets/controls",
      "model_module_version": "1.5.0",
      "model_name": "DescriptionStyleModel",
      "state": {
       "description_width": ""
      }
     },
     "527d9c1889d143debc0bab06dff63d8c": {
      "model_module": "@jupyter-widgets/controls",
      "model_module_version": "1.5.0",
      "model_name": "DescriptionStyleModel",
      "state": {
       "description_width": ""
      }
     },
     "536569a06fa24de98d0b364a57859bde": {
      "model_module": "@jupyter-widgets/controls",
      "model_module_version": "1.5.0",
      "model_name": "ButtonModel",
      "state": {
       "icon": "close",
       "layout": "IPY_MODEL_c7a184b2566e463980c709f610d7a4bd",
       "style": "IPY_MODEL_ca932d190bf74242aca23ac7e14d6682"
      }
     },
     "5402397e4ebb4a9885682de99a96a359": {
      "model_module": "@jupyter-widgets/base",
      "model_module_version": "1.2.0",
      "model_name": "LayoutModel",
      "state": {
       "max_width": "700px",
       "min_width": "700px"
      }
     },
     "54052bf43b9f4ed79e15705cd995c43f": {
      "model_module": "@jupyter-widgets/controls",
      "model_module_version": "1.5.0",
      "model_name": "HTMLModel",
      "state": {
       "layout": "IPY_MODEL_869461eebca74093be789f96f90081ef",
       "style": "IPY_MODEL_57bcfb27c1ba44dba2619040a2bd7fd3",
       "value": "job has successfully run"
      }
     },
     "54b1a11d9df54d5e828f5282026b446a": {
      "model_module": "@jupyter-widgets/base",
      "model_module_version": "1.2.0",
      "model_name": "LayoutModel",
      "state": {
       "width": "95px"
      }
     },
     "576faf64585f44f48bd98321efe7701d": {
      "model_module": "@jupyter-widgets/base",
      "model_module_version": "1.2.0",
      "model_name": "LayoutModel",
      "state": {
       "width": "145px"
      }
     },
     "57bcfb27c1ba44dba2619040a2bd7fd3": {
      "model_module": "@jupyter-widgets/controls",
      "model_module_version": "1.5.0",
      "model_name": "DescriptionStyleModel",
      "state": {
       "description_width": ""
      }
     },
     "5a9e212cbebe41f6b0cadce8ea773e76": {
      "model_module": "@jupyter-widgets/controls",
      "model_module_version": "1.5.0",
      "model_name": "HTMLModel",
      "state": {
       "layout": "IPY_MODEL_e45a4dc7ef704425a0fa49dcc83b1364",
       "style": "IPY_MODEL_fb019ea96a494bcfa03a94a8aa73e7d0",
       "value": "<font style='color:#34BC6E'>DONE</font>"
      }
     },
     "5c8d0569cd3d4a77ab1c2c13e7b08f74": {
      "model_module": "@jupyter-widgets/controls",
      "model_module_version": "1.5.0",
      "model_name": "ButtonModel",
      "state": {
       "icon": "close",
       "layout": "IPY_MODEL_72fd349844bb4a2d9da6ab83b7884019",
       "style": "IPY_MODEL_801c62f1cf4249bb81e92dfcb40b6754"
      }
     },
     "5c956e129cc7487da273bb4be9b103f1": {
      "model_module": "@jupyter-widgets/base",
      "model_module_version": "1.2.0",
      "model_name": "LayoutModel",
      "state": {
       "width": "70px"
      }
     },
     "6090673c7b8b4410a14c5b71eed1c202": {
      "model_module": "@jupyter-widgets/controls",
      "model_module_version": "1.5.0",
      "model_name": "DescriptionStyleModel",
      "state": {
       "description_width": ""
      }
     },
     "61c3bc618e1742e3b93ac46a88618c3a": {
      "model_module": "@jupyter-widgets/controls",
      "model_module_version": "1.5.0",
      "model_name": "HBoxModel",
      "state": {
       "children": [
        "IPY_MODEL_72a0f942d4754814b1661aac5f48c5a2",
        "IPY_MODEL_81f76c755d014f249cee8b9fd8e14cea",
        "IPY_MODEL_f9d1a8df47cd483e8ac20a90e496f117",
        "IPY_MODEL_6ccb19429b5242c0809ab8aead53f000",
        "IPY_MODEL_709302f76a164c1b8553dfdc9b8c0787",
        "IPY_MODEL_22a41b45849444ca85dd939a36309b59"
       ],
       "layout": "IPY_MODEL_4ad07664250747d7aef9c007f80556a2"
      }
     },
     "62164ec31937405a8c85e63ef7ea774f": {
      "model_module": "@jupyter-widgets/controls",
      "model_module_version": "1.5.0",
      "model_name": "HTMLModel",
      "state": {
       "layout": "IPY_MODEL_b67d4fa2d27943baa80bd08d2093a828",
       "style": "IPY_MODEL_bf643edf86cf42e0a31ada105005f96d",
       "value": "-"
      }
     },
     "63174b5f1700456d854e081986c2a053": {
      "model_module": "@jupyter-widgets/controls",
      "model_module_version": "1.5.0",
      "model_name": "HTMLModel",
      "state": {
       "layout": "IPY_MODEL_ac1e95153f2c4c05a4bdaf7f9b5b8213",
       "style": "IPY_MODEL_0d8b3e7e0d864d5c8c1ae868c9283e8e",
       "value": "job incurred error"
      }
     },
     "63611198240744e882856e3765e423d5": {
      "model_module": "@jupyter-widgets/controls",
      "model_module_version": "1.5.0",
      "model_name": "ButtonModel",
      "state": {
       "icon": "close",
       "layout": "IPY_MODEL_a886d008c8c941c4aebd8cdbe792f928",
       "style": "IPY_MODEL_6dfc7af43afb4255b91d2f8a26c31049"
      }
     },
     "63dc282c75e3433c985d88f77b188306": {
      "model_module": "@jupyter-widgets/controls",
      "model_module_version": "1.5.0",
      "model_name": "DescriptionStyleModel",
      "state": {
       "description_width": ""
      }
     },
     "64fa689dd40d4464925b970ae431d5bc": {
      "model_module": "@jupyter-widgets/controls",
      "model_module_version": "1.5.0",
      "model_name": "HTMLModel",
      "state": {
       "layout": "IPY_MODEL_75bac0bb00ce40dca0387f49b4be6776",
       "style": "IPY_MODEL_b83ae5a1a74946eb8def2fb4711e1a7c",
       "value": "<font style='color:#DC267F'>ERROR</font>"
      }
     },
     "654c83c3e2094f7a986aa103baa369a6": {
      "model_module": "@jupyter-widgets/base",
      "model_module_version": "1.2.0",
      "model_name": "LayoutModel",
      "state": {
       "width": "145px"
      }
     },
     "696a0e7b3aae4e9fbaba07a09f6d3d94": {
      "model_module": "@jupyter-widgets/controls",
      "model_module_version": "1.5.0",
      "model_name": "ButtonStyleModel",
      "state": {
       "button_color": "white"
      }
     },
     "69bc19037e294a649ad4a31652766f5a": {
      "model_module": "@jupyter-widgets/base",
      "model_module_version": "1.2.0",
      "model_name": "LayoutModel",
      "state": {
       "width": "95px"
      }
     },
     "6a07f6c33ac24cdcb0921ad10961645a": {
      "model_module": "@jupyter-widgets/base",
      "model_module_version": "1.2.0",
      "model_name": "LayoutModel",
      "state": {
       "width": "190px"
      }
     },
     "6aff1dae828c413f97d960993e5544e3": {
      "model_module": "@jupyter-widgets/base",
      "model_module_version": "1.2.0",
      "model_name": "LayoutModel",
      "state": {
       "width": "70px"
      }
     },
     "6c9592d7e74b42a48ed8e74aebed56b0": {
      "model_module": "@jupyter-widgets/controls",
      "model_module_version": "1.5.0",
      "model_name": "HTMLModel",
      "state": {
       "layout": "IPY_MODEL_0a56f694e3df4baa890b32a8e815d87d",
       "style": "IPY_MODEL_8863635ad1de46958d25a9c7e5c70c98",
       "value": "<font style='color:#DC267F'>ERROR</font>"
      }
     },
     "6ccb19429b5242c0809ab8aead53f000": {
      "model_module": "@jupyter-widgets/controls",
      "model_module_version": "1.5.0",
      "model_name": "HTMLModel",
      "state": {
       "layout": "IPY_MODEL_0251d28a419e4b90bce9d855405d8711",
       "style": "IPY_MODEL_09da1e54f5bd4dd4a1c4299df154af5f",
       "value": "<font style='color:#34BC6E'>DONE</font>"
      }
     },
     "6dfc7af43afb4255b91d2f8a26c31049": {
      "model_module": "@jupyter-widgets/controls",
      "model_module_version": "1.5.0",
      "model_name": "ButtonStyleModel",
      "state": {
       "button_color": "white"
      }
     },
     "6e193286d9884b48a8bcc37f646b3f38": {
      "model_module": "@jupyter-widgets/controls",
      "model_module_version": "1.5.0",
      "model_name": "DescriptionStyleModel",
      "state": {
       "description_width": ""
      }
     },
     "709302f76a164c1b8553dfdc9b8c0787": {
      "model_module": "@jupyter-widgets/controls",
      "model_module_version": "1.5.0",
      "model_name": "HTMLModel",
      "state": {
       "layout": "IPY_MODEL_d57bdc6485d04640a60a245bc305ca5a",
       "style": "IPY_MODEL_af611b95eabd42e78ecceae02fcade4c",
       "value": "-"
      }
     },
     "71f91e3f875049b8aefb6126dc830f4b": {
      "model_module": "@jupyter-widgets/base",
      "model_module_version": "1.2.0",
      "model_name": "LayoutModel",
      "state": {
       "width": "145px"
      }
     },
     "724cfd8cd71f4f39ab4dd281c47ffe78": {
      "model_module": "@jupyter-widgets/controls",
      "model_module_version": "1.5.0",
      "model_name": "DescriptionStyleModel",
      "state": {
       "description_width": ""
      }
     },
     "72a0f942d4754814b1661aac5f48c5a2": {
      "model_module": "@jupyter-widgets/controls",
      "model_module_version": "1.5.0",
      "model_name": "ButtonModel",
      "state": {
       "icon": "close",
       "layout": "IPY_MODEL_4e4d66135b4f4d7998b9ebd7c5b70944",
       "style": "IPY_MODEL_696a0e7b3aae4e9fbaba07a09f6d3d94"
      }
     },
     "72da93e6edf14b4888aa36c970ade5fe": {
      "model_module": "@jupyter-widgets/controls",
      "model_module_version": "1.5.0",
      "model_name": "DescriptionStyleModel",
      "state": {
       "description_width": ""
      }
     },
     "72fd349844bb4a2d9da6ab83b7884019": {
      "model_module": "@jupyter-widgets/base",
      "model_module_version": "1.2.0",
      "model_name": "LayoutModel",
      "state": {
       "margin": "0px 5px 0px 0px",
       "width": "32px"
      }
     },
     "75bac0bb00ce40dca0387f49b4be6776": {
      "model_module": "@jupyter-widgets/base",
      "model_module_version": "1.2.0",
      "model_name": "LayoutModel",
      "state": {
       "width": "95px"
      }
     },
     "766dd54d40ca48709626ab0fc6ec9039": {
      "model_module": "@jupyter-widgets/base",
      "model_module_version": "1.2.0",
      "model_name": "LayoutModel",
      "state": {
       "grid_area": "right",
       "padding": "0px 0px 0px 0px",
       "width": "70px"
      }
     },
     "76d950cc9892425ea85cd2dfbae53e0e": {
      "model_module": "@jupyter-widgets/controls",
      "model_module_version": "1.5.0",
      "model_name": "HTMLModel",
      "state": {
       "layout": "IPY_MODEL_6aff1dae828c413f97d960993e5544e3",
       "style": "IPY_MODEL_ebcbd64fe8cb405085385c3fb09d167c",
       "value": "-"
      }
     },
     "78ce6fcfd49f467590148448ca015837": {
      "model_module": "@jupyter-widgets/controls",
      "model_module_version": "1.5.0",
      "model_name": "HTMLModel",
      "state": {
       "layout": "IPY_MODEL_d63652cd29fe4ce1a69ed69a7e150e82",
       "style": "IPY_MODEL_d4ae9fc1228540bfbb512565f28359ea",
       "value": "<p style='font-family: IBM Plex Sans, Arial, Helvetica, sans-serif; font-size: 20px; font-weight: medium;'>Circuit Properties</p>"
      }
     },
     "79114e624e7943d9b376f4bca16961b7": {
      "model_module": "@jupyter-widgets/controls",
      "model_module_version": "1.5.0",
      "model_name": "ButtonModel",
      "state": {
       "icon": "close",
       "layout": "IPY_MODEL_1c555c3dc2b341ffa22e44ca44aa5f4b",
       "style": "IPY_MODEL_315639af649e4859991fd104720503b4"
      }
     },
     "7a24186020cf4fb9998b9aeb9da8c70f": {
      "model_module": "@jupyter-widgets/controls",
      "model_module_version": "1.5.0",
      "model_name": "DescriptionStyleModel",
      "state": {
       "description_width": ""
      }
     },
     "7ba347c3503745b2acbe556100f8e49c": {
      "model_module": "@jupyter-widgets/controls",
      "model_module_version": "1.5.0",
      "model_name": "HTMLModel",
      "state": {
       "layout": "IPY_MODEL_4a98b1fb0b60417fa73ae47ed78fe6f5",
       "style": "IPY_MODEL_c99b0b4ad57f450185e6f84d0fe47447",
       "value": "<font style='color:#DC267F'>ERROR</font>"
      }
     },
     "7c5820f89a4949c1b59e29f8dc7c07a4": {
      "model_module": "@jupyter-widgets/base",
      "model_module_version": "1.2.0",
      "model_name": "LayoutModel",
      "state": {
       "width": "190px"
      }
     },
     "7ec260cd00a34a31ae1082a90c77202c": {
      "model_module": "@jupyter-widgets/controls",
      "model_module_version": "1.5.0",
      "model_name": "GridBoxModel",
      "state": {
       "children": [
        "IPY_MODEL_ac2db8a77a634498b5eb8dd5dc37ecaa"
       ],
       "layout": "IPY_MODEL_a0c3bb00c2f8488da121c674174e6ec6"
      }
     },
     "7f73ccc5bdda414a90e67f86f793e903": {
      "model_module": "@jupyter-widgets/controls",
      "model_module_version": "1.5.0",
      "model_name": "HBoxModel",
      "state": {
       "children": [
        "IPY_MODEL_13cc2dc0a94c4f3b8602e98fd233b072",
        "IPY_MODEL_834bf8f6de35489ba151da2617f05d2d",
        "IPY_MODEL_ed64a4d3dcf04fef8d43f578e00c93b8",
        "IPY_MODEL_5a9e212cbebe41f6b0cadce8ea773e76",
        "IPY_MODEL_76d950cc9892425ea85cd2dfbae53e0e",
        "IPY_MODEL_54052bf43b9f4ed79e15705cd995c43f"
       ],
       "layout": "IPY_MODEL_a39d0a63ed154d7c942d451fcf879462"
      }
     },
     "7f910196d127459f93d4fa925896b108": {
      "model_module": "@jupyter-widgets/controls",
      "model_module_version": "1.5.0",
      "model_name": "HTMLModel",
      "state": {
       "layout": "IPY_MODEL_c757b9934bdc4ce9a943c666702a4b35",
       "style": "IPY_MODEL_4ca31c37e5974604bf74cf04a2ec8822",
       "value": "job incurred error"
      }
     },
     "801c62f1cf4249bb81e92dfcb40b6754": {
      "model_module": "@jupyter-widgets/controls",
      "model_module_version": "1.5.0",
      "model_name": "ButtonStyleModel",
      "state": {
       "button_color": "white"
      }
     },
     "81f76c755d014f249cee8b9fd8e14cea": {
      "model_module": "@jupyter-widgets/controls",
      "model_module_version": "1.5.0",
      "model_name": "HTMLModel",
      "state": {
       "layout": "IPY_MODEL_9287a2547e7e48b8a1d724b94bfc4b58",
       "style": "IPY_MODEL_aba52e2434874073b780ada57a074106",
       "value": "6110efdb3ac0cf295f8e35a3"
      }
     },
     "82279892a4204896b4c19481683d0fe7": {
      "model_module": "@jupyter-widgets/controls",
      "model_module_version": "1.5.0",
      "model_name": "HTMLModel",
      "state": {
       "layout": "IPY_MODEL_3eedaeb9659f4ae5a98473704772a26c",
       "style": "IPY_MODEL_3ca171bd73704735bcb727c0404c684d",
       "value": "<font style='color:#34BC6E'>DONE</font>"
      }
     },
     "834bf8f6de35489ba151da2617f05d2d": {
      "model_module": "@jupyter-widgets/controls",
      "model_module_version": "1.5.0",
      "model_name": "HTMLModel",
      "state": {
       "layout": "IPY_MODEL_1e2345e52d3a4f7d97a290712759e619",
       "style": "IPY_MODEL_0c5693ec49744e239cb64d25f661dbbc",
       "value": "6110fb593ac0cf70268e35de"
      }
     },
     "837b9bcea5154f9c8679285ccfdcbea7": {
      "model_module": "@jupyter-widgets/controls",
      "model_module_version": "1.5.0",
      "model_name": "HTMLModel",
      "state": {
       "layout": "IPY_MODEL_1a4de73289c2478487a9346ae651af5d",
       "style": "IPY_MODEL_1764f6fd3a5045f281459f95696f8260",
       "value": "job has successfully run"
      }
     },
     "869461eebca74093be789f96f90081ef": {
      "model_module": "@jupyter-widgets/base",
      "model_module_version": "1.2.0",
      "model_name": "LayoutModel",
      "state": {
       "overflow_x": "scroll"
      }
     },
     "86958fa0a4384cc9bc66eb15c1563b7e": {
      "model_module": "@jupyter-widgets/controls",
      "model_module_version": "1.5.0",
      "model_name": "HTMLModel",
      "state": {
       "layout": "IPY_MODEL_54b1a11d9df54d5e828f5282026b446a",
       "style": "IPY_MODEL_ee5cf4fabc754f438917e9ea4fae3ec9",
       "value": "<h5>Status</h5>"
      }
     },
     "883f7099d97d4f559b1f15979323e56c": {
      "model_module": "@jupyter-widgets/controls",
      "model_module_version": "1.5.0",
      "model_name": "HBoxModel",
      "state": {
       "children": [
        "IPY_MODEL_5c8d0569cd3d4a77ab1c2c13e7b08f74",
        "IPY_MODEL_fd12cf008c004339b9d8f8187bfb0a7d",
        "IPY_MODEL_bf1db87017094ea0a19e5ca94cbc0dc0",
        "IPY_MODEL_7ba347c3503745b2acbe556100f8e49c",
        "IPY_MODEL_9e1f6a8ef7da4dc3a558c3abcaeee562",
        "IPY_MODEL_7f910196d127459f93d4fa925896b108"
       ],
       "layout": "IPY_MODEL_d9cc7f36198f4967beafecb22ce32f32"
      }
     },
     "8863635ad1de46958d25a9c7e5c70c98": {
      "model_module": "@jupyter-widgets/controls",
      "model_module_version": "1.5.0",
      "model_name": "DescriptionStyleModel",
      "state": {
       "description_width": ""
      }
     },
     "8ceab8ea649049e7b08082ec9dc4d5b5": {
      "model_module": "@jupyter-widgets/controls",
      "model_module_version": "1.5.0",
      "model_name": "DescriptionStyleModel",
      "state": {
       "description_width": ""
      }
     },
     "8dd16fcf862b45a1a5d67646102ac3ad": {
      "model_module": "@jupyter-widgets/controls",
      "model_module_version": "1.5.0",
      "model_name": "ButtonModel",
      "state": {
       "icon": "close",
       "layout": "IPY_MODEL_a7e43b92fdc84e5b87b8c7d158a8bf6a",
       "style": "IPY_MODEL_49f99e60008c41178bb7b0b42f3ae039"
      }
     },
     "8f5b8e8a90eb497d8a9aed50eefa4df9": {
      "model_module": "@jupyter-widgets/base",
      "model_module_version": "1.2.0",
      "model_name": "LayoutModel",
      "state": {
       "margin": "0px 5px 0px 0px",
       "width": "32px"
      }
     },
     "909408f8c02846dab347f238ec387dd6": {
      "model_module": "@jupyter-widgets/controls",
      "model_module_version": "1.5.0",
      "model_name": "HTMLModel",
      "state": {
       "layout": "IPY_MODEL_0c75688fdd404c7e8624bd0d6b335a48",
       "style": "IPY_MODEL_da21131ba2c5453194614ef514fc2e39",
       "value": "ibmqx2"
      }
     },
     "91f30fbf654f40f4837ade30f3c05b4a": {
      "model_module": "@jupyter-widgets/base",
      "model_module_version": "1.2.0",
      "model_name": "LayoutModel",
      "state": {
       "width": "190px"
      }
     },
     "9287a2547e7e48b8a1d724b94bfc4b58": {
      "model_module": "@jupyter-widgets/base",
      "model_module_version": "1.2.0",
      "model_name": "LayoutModel",
      "state": {
       "width": "190px"
      }
     },
     "97be9346dfd1421ba70716a0036fbc5d": {
      "model_module": "@jupyter-widgets/base",
      "model_module_version": "1.2.0",
      "model_name": "LayoutModel",
      "state": {
       "overflow_x": "scroll"
      }
     },
     "980ff65ebbc547eab3254952685ead92": {
      "model_module": "@jupyter-widgets/controls",
      "model_module_version": "1.5.0",
      "model_name": "HTMLModel",
      "state": {
       "layout": "IPY_MODEL_71f91e3f875049b8aefb6126dc830f4b",
       "style": "IPY_MODEL_4e49079c5fb24bb8864acd37dbb47565",
       "value": "ibmq_quito"
      }
     },
     "9909c6d7e70941218cb2e7ef136efd6a": {
      "model_module": "@jupyter-widgets/controls",
      "model_module_version": "1.5.0",
      "model_name": "HTMLModel",
      "state": {
       "layout": "IPY_MODEL_7c5820f89a4949c1b59e29f8dc7c07a4",
       "style": "IPY_MODEL_6090673c7b8b4410a14c5b71eed1c202",
       "value": "<h5>Job ID</h5>"
      }
     },
     "9ae99b3bb16e45eaba4deeb0124a22cd": {
      "model_module": "@jupyter-widgets/controls",
      "model_module_version": "1.5.0",
      "model_name": "DescriptionStyleModel",
      "state": {
       "description_width": ""
      }
     },
     "9afbf715981142ec977438a17a5bdf73": {
      "model_module": "@jupyter-widgets/controls",
      "model_module_version": "1.5.0",
      "model_name": "HTMLModel",
      "state": {
       "layout": "IPY_MODEL_69bc19037e294a649ad4a31652766f5a",
       "style": "IPY_MODEL_eded5d78285d42b690e6a1ac39b50b1a",
       "value": "<font style='color:#DC267F'>ERROR</font>"
      }
     },
     "9b8bed2e507048e18e9beffe3dde45da": {
      "model_module": "@jupyter-widgets/controls",
      "model_module_version": "1.5.0",
      "model_name": "HTMLModel",
      "state": {
       "layout": "IPY_MODEL_654c83c3e2094f7a986aa103baa369a6",
       "style": "IPY_MODEL_483e950b766f4fa0bf880a61002a5c86",
       "value": "ibmq_quito"
      }
     },
     "9cd02e7d30de443fb650dbdf82c0c35e": {
      "model_module": "@jupyter-widgets/controls",
      "model_module_version": "1.5.0",
      "model_name": "HBoxModel",
      "state": {
       "children": [
        "IPY_MODEL_16157fe819d349db892ce94d7255494f",
        "IPY_MODEL_0237428cafb9450b8de4233279701351",
        "IPY_MODEL_909408f8c02846dab347f238ec387dd6",
        "IPY_MODEL_6c9592d7e74b42a48ed8e74aebed56b0",
        "IPY_MODEL_a536e852078942d2981353746acd2a8d",
        "IPY_MODEL_07891fa2238745a98c20fb2ac945ddda"
       ],
       "layout": "IPY_MODEL_309b47afa5644b05b2905da25ce90158"
      }
     },
     "9df18978a0414b4e89c01e24215515c8": {
      "model_module": "@jupyter-widgets/base",
      "model_module_version": "1.2.0",
      "model_name": "LayoutModel",
      "state": {
       "overflow_x": "scroll"
      }
     },
     "9e1f6a8ef7da4dc3a558c3abcaeee562": {
      "model_module": "@jupyter-widgets/controls",
      "model_module_version": "1.5.0",
      "model_name": "HTMLModel",
      "state": {
       "layout": "IPY_MODEL_0dc88761db2e45938a4ab6f1e8321e3e",
       "style": "IPY_MODEL_e409070f21f04303990505b61f219fca",
       "value": "-"
      }
     },
     "a009eac79b25417484ce30b0878ad5ab": {
      "model_module": "@jupyter-widgets/base",
      "model_module_version": "1.2.0",
      "model_name": "LayoutModel",
      "state": {
       "overflow_x": "scroll"
      }
     },
     "a0c3bb00c2f8488da121c674174e6ec6": {
      "model_module": "@jupyter-widgets/base",
      "model_module_version": "1.2.0",
      "model_name": "LayoutModel",
      "state": {
       "grid_template_areas": "\n                                       \". . . . right \"\n                                        ",
       "grid_template_columns": "20% 20% 20% 20% 20%",
       "width": "100%"
      }
     },
     "a17089d2b3694a678976ac248a0fa0e0": {
      "model_module": "@jupyter-widgets/controls",
      "model_module_version": "1.5.0",
      "model_name": "DescriptionStyleModel",
      "state": {
       "description_width": ""
      }
     },
     "a39d0a63ed154d7c942d451fcf879462": {
      "model_module": "@jupyter-widgets/base",
      "model_module_version": "1.2.0",
      "model_name": "LayoutModel",
      "state": {
       "max_width": "700px",
       "min_width": "700px"
      }
     },
     "a536e852078942d2981353746acd2a8d": {
      "model_module": "@jupyter-widgets/controls",
      "model_module_version": "1.5.0",
      "model_name": "HTMLModel",
      "state": {
       "layout": "IPY_MODEL_c0cb3498094741f49f17fb9175ce963b",
       "style": "IPY_MODEL_d4349497c0ab446da60f0cb49f8f0fef",
       "value": "-"
      }
     },
     "a7e43b92fdc84e5b87b8c7d158a8bf6a": {
      "model_module": "@jupyter-widgets/base",
      "model_module_version": "1.2.0",
      "model_name": "LayoutModel",
      "state": {
       "margin": "0px 5px 0px 0px",
       "width": "32px"
      }
     },
     "a886d008c8c941c4aebd8cdbe792f928": {
      "model_module": "@jupyter-widgets/base",
      "model_module_version": "1.2.0",
      "model_name": "LayoutModel",
      "state": {
       "margin": "0px 5px 0px 0px",
       "width": "32px"
      }
     },
     "aaa745f85a4f4b4981d81c8a47dbece3": {
      "model_module": "@jupyter-widgets/controls",
      "model_module_version": "1.5.0",
      "model_name": "HTMLModel",
      "state": {
       "layout": "IPY_MODEL_ab80b9789c4f48429678baf523643ae7",
       "style": "IPY_MODEL_c86bb7f2c463404ba0e3d7a27cc1ae24",
       "value": "-"
      }
     },
     "ab80b9789c4f48429678baf523643ae7": {
      "model_module": "@jupyter-widgets/base",
      "model_module_version": "1.2.0",
      "model_name": "LayoutModel",
      "state": {
       "width": "70px"
      }
     },
     "aba52e2434874073b780ada57a074106": {
      "model_module": "@jupyter-widgets/controls",
      "model_module_version": "1.5.0",
      "model_name": "DescriptionStyleModel",
      "state": {
       "description_width": ""
      }
     },
     "ac1e95153f2c4c05a4bdaf7f9b5b8213": {
      "model_module": "@jupyter-widgets/base",
      "model_module_version": "1.2.0",
      "model_name": "LayoutModel",
      "state": {
       "overflow_x": "scroll"
      }
     },
     "ac2db8a77a634498b5eb8dd5dc37ecaa": {
      "model_module": "@jupyter-widgets/controls",
      "model_module_version": "1.5.0",
      "model_name": "ButtonModel",
      "state": {
       "button_style": "primary",
       "description": "Clear",
       "layout": "IPY_MODEL_766dd54d40ca48709626ab0fc6ec9039",
       "style": "IPY_MODEL_d702ee2c147f4ce5a80c2c7431f1b9cb"
      }
     },
     "ac9c5cdf662c4d1da67581c30567e451": {
      "model_module": "@jupyter-widgets/controls",
      "model_module_version": "1.5.0",
      "model_name": "DescriptionStyleModel",
      "state": {
       "description_width": ""
      }
     },
     "af611b95eabd42e78ecceae02fcade4c": {
      "model_module": "@jupyter-widgets/controls",
      "model_module_version": "1.5.0",
      "model_name": "DescriptionStyleModel",
      "state": {
       "description_width": ""
      }
     },
     "b5f49260d37740819892433971ae8b3f": {
      "model_module": "@jupyter-widgets/controls",
      "model_module_version": "1.5.0",
      "model_name": "HBoxModel",
      "state": {
       "children": [
        "IPY_MODEL_79114e624e7943d9b376f4bca16961b7",
        "IPY_MODEL_205fa537dfcf49aaa282ad1579b22d98",
        "IPY_MODEL_980ff65ebbc547eab3254952685ead92",
        "IPY_MODEL_1fb2dee76e8547f1ac7a885de9d39f9a",
        "IPY_MODEL_db678e0ce6d043469204f35e9cbdbf00",
        "IPY_MODEL_30ec3be737e14b3790c352d500a93fee"
       ],
       "layout": "IPY_MODEL_40aa575b5f814f358d9f49be9016046e"
      }
     },
     "b67d4fa2d27943baa80bd08d2093a828": {
      "model_module": "@jupyter-widgets/base",
      "model_module_version": "1.2.0",
      "model_name": "LayoutModel",
      "state": {
       "width": "70px"
      }
     },
     "b7e8cb72a0cc4e69b26360a72792b28d": {
      "model_module": "@jupyter-widgets/controls",
      "model_module_version": "1.5.0",
      "model_name": "DescriptionStyleModel",
      "state": {
       "description_width": ""
      }
     },
     "b83ae5a1a74946eb8def2fb4711e1a7c": {
      "model_module": "@jupyter-widgets/controls",
      "model_module_version": "1.5.0",
      "model_name": "DescriptionStyleModel",
      "state": {
       "description_width": ""
      }
     },
     "ba869016d7274f40b6a1f8f26afc82fb": {
      "model_module": "@jupyter-widgets/base",
      "model_module_version": "1.2.0",
      "model_name": "LayoutModel",
      "state": {
       "margin": "0px 0px 0px 37px",
       "width": "600px"
      }
     },
     "bbe74b017c944f568eebba3fff5b4689": {
      "model_module": "@jupyter-widgets/controls",
      "model_module_version": "1.5.0",
      "model_name": "HTMLModel",
      "state": {
       "layout": "IPY_MODEL_2f140441f5844d2c986eb999b3f6b474",
       "style": "IPY_MODEL_d3b670fa54a8432aa91da0679e3e5862",
       "value": "job incurred error"
      }
     },
     "bd570327ac3643efb6a94126f04df800": {
      "model_module": "@jupyter-widgets/base",
      "model_module_version": "1.2.0",
      "model_name": "LayoutModel",
      "state": {
       "width": "70px"
      }
     },
     "bdbd7101a7384e5a9f061c3491f2696f": {
      "model_module": "@jupyter-widgets/controls",
      "model_module_version": "1.5.0",
      "model_name": "ButtonStyleModel",
      "state": {
       "button_color": "white"
      }
     },
     "be0a3d20ccfb459184a91b9b38d8ed4e": {
      "model_module": "@jupyter-widgets/base",
      "model_module_version": "1.2.0",
      "model_name": "LayoutModel",
      "state": {
       "width": "70px"
      }
     },
     "be2057baed154940876a857e41995ea8": {
      "model_module": "@jupyter-widgets/controls",
      "model_module_version": "1.5.0",
      "model_name": "HTMLModel",
      "state": {
       "layout": "IPY_MODEL_9df18978a0414b4e89c01e24215515c8",
       "style": "IPY_MODEL_8ceab8ea649049e7b08082ec9dc4d5b5",
       "value": "job has successfully run"
      }
     },
     "bf1db87017094ea0a19e5ca94cbc0dc0": {
      "model_module": "@jupyter-widgets/controls",
      "model_module_version": "1.5.0",
      "model_name": "HTMLModel",
      "state": {
       "layout": "IPY_MODEL_0f3e014ae42d4e0d8551dffaac1b7046",
       "style": "IPY_MODEL_1867fea21a0b4c0ebe796b5da27508df",
       "value": "ibmq_belem"
      }
     },
     "bf643edf86cf42e0a31ada105005f96d": {
      "model_module": "@jupyter-widgets/controls",
      "model_module_version": "1.5.0",
      "model_name": "DescriptionStyleModel",
      "state": {
       "description_width": ""
      }
     },
     "bf8da4b61a01449690af22d95ab487ff": {
      "model_module": "@jupyter-widgets/controls",
      "model_module_version": "1.5.0",
      "model_name": "HTMLModel",
      "state": {
       "layout": "IPY_MODEL_91f30fbf654f40f4837ade30f3c05b4a",
       "style": "IPY_MODEL_f830b94d3f8742798377a8cb60d8aaf3",
       "value": "6110ecd7b0d6ba69314f414d"
      }
     },
     "c0cb3498094741f49f17fb9175ce963b": {
      "model_module": "@jupyter-widgets/base",
      "model_module_version": "1.2.0",
      "model_name": "LayoutModel",
      "state": {
       "width": "70px"
      }
     },
     "c1017823ed59425c94c4e2caf711ff42": {
      "model_module": "@jupyter-widgets/controls",
      "model_module_version": "1.5.0",
      "model_name": "DescriptionStyleModel",
      "state": {
       "description_width": ""
      }
     },
     "c4e4595a19fd41eea1d7c2e615dd751f": {
      "model_module": "@jupyter-widgets/base",
      "model_module_version": "1.2.0",
      "model_name": "LayoutModel",
      "state": {
       "width": "145px"
      }
     },
     "c7341f811d5a495e9efe4ed728238fee": {
      "model_module": "@jupyter-widgets/controls",
      "model_module_version": "1.5.0",
      "model_name": "DescriptionStyleModel",
      "state": {
       "description_width": ""
      }
     },
     "c757b9934bdc4ce9a943c666702a4b35": {
      "model_module": "@jupyter-widgets/base",
      "model_module_version": "1.2.0",
      "model_name": "LayoutModel",
      "state": {
       "overflow_x": "scroll"
      }
     },
     "c7a184b2566e463980c709f610d7a4bd": {
      "model_module": "@jupyter-widgets/base",
      "model_module_version": "1.2.0",
      "model_name": "LayoutModel",
      "state": {
       "margin": "0px 5px 0px 0px",
       "width": "32px"
      }
     },
     "c8389277d58e48c183fbb354867747d0": {
      "model_module": "@jupyter-widgets/controls",
      "model_module_version": "1.5.0",
      "model_name": "DescriptionStyleModel",
      "state": {
       "description_width": ""
      }
     },
     "c86bb7f2c463404ba0e3d7a27cc1ae24": {
      "model_module": "@jupyter-widgets/controls",
      "model_module_version": "1.5.0",
      "model_name": "DescriptionStyleModel",
      "state": {
       "description_width": ""
      }
     },
     "c884669db4cc452a876065f80c223a7f": {
      "model_module": "@jupyter-widgets/controls",
      "model_module_version": "1.5.0",
      "model_name": "ButtonModel",
      "state": {
       "icon": "close",
       "layout": "IPY_MODEL_8f5b8e8a90eb497d8a9aed50eefa4df9",
       "style": "IPY_MODEL_bdbd7101a7384e5a9f061c3491f2696f"
      }
     },
     "c99b0b4ad57f450185e6f84d0fe47447": {
      "model_module": "@jupyter-widgets/controls",
      "model_module_version": "1.5.0",
      "model_name": "DescriptionStyleModel",
      "state": {
       "description_width": ""
      }
     },
     "ca798fdb68d143b79bd631117cc32f5b": {
      "model_module": "@jupyter-widgets/controls",
      "model_module_version": "1.5.0",
      "model_name": "DescriptionStyleModel",
      "state": {
       "description_width": ""
      }
     },
     "ca932d190bf74242aca23ac7e14d6682": {
      "model_module": "@jupyter-widgets/controls",
      "model_module_version": "1.5.0",
      "model_name": "ButtonStyleModel",
      "state": {
       "button_color": "white"
      }
     },
     "cc6be62ed92944078c570d22e1ecaeb7": {
      "model_module": "@jupyter-widgets/controls",
      "model_module_version": "1.5.0",
      "model_name": "HTMLModel",
      "state": {
       "layout": "IPY_MODEL_e8a4ed6b76424a2b8e3ac3176ef5e052",
       "style": "IPY_MODEL_17829656c49f4cb2af451e7ea72528f0",
       "value": "ibmqx2"
      }
     },
     "cd74eaa6388049fa87d7e4b8167d439b": {
      "model_module": "@jupyter-widgets/controls",
      "model_module_version": "1.5.0",
      "model_name": "DescriptionStyleModel",
      "state": {
       "description_width": ""
      }
     },
     "ce42f2ca96c94c3f84449fdf9e92d857": {
      "model_module": "@jupyter-widgets/base",
      "model_module_version": "1.2.0",
      "model_name": "LayoutModel",
      "state": {
       "width": "145px"
      }
     },
     "d3b670fa54a8432aa91da0679e3e5862": {
      "model_module": "@jupyter-widgets/controls",
      "model_module_version": "1.5.0",
      "model_name": "DescriptionStyleModel",
      "state": {
       "description_width": ""
      }
     },
     "d4349497c0ab446da60f0cb49f8f0fef": {
      "model_module": "@jupyter-widgets/controls",
      "model_module_version": "1.5.0",
      "model_name": "DescriptionStyleModel",
      "state": {
       "description_width": ""
      }
     },
     "d4ae9fc1228540bfbb512565f28359ea": {
      "model_module": "@jupyter-widgets/controls",
      "model_module_version": "1.5.0",
      "model_name": "DescriptionStyleModel",
      "state": {
       "description_width": ""
      }
     },
     "d57bdc6485d04640a60a245bc305ca5a": {
      "model_module": "@jupyter-widgets/base",
      "model_module_version": "1.2.0",
      "model_name": "LayoutModel",
      "state": {
       "width": "70px"
      }
     },
     "d63652cd29fe4ce1a69ed69a7e150e82": {
      "model_module": "@jupyter-widgets/base",
      "model_module_version": "1.2.0",
      "model_name": "LayoutModel",
      "state": {
       "margin": "0px 0px 10px 0px"
      }
     },
     "d702ee2c147f4ce5a80c2c7431f1b9cb": {
      "model_module": "@jupyter-widgets/controls",
      "model_module_version": "1.5.0",
      "model_name": "ButtonStyleModel",
      "state": {}
     },
     "d7a1a752d7ef42b682ee0ec4600f8d75": {
      "model_module": "@jupyter-widgets/controls",
      "model_module_version": "1.5.0",
      "model_name": "ButtonStyleModel",
      "state": {
       "button_color": "white"
      }
     },
     "d7dccffbbdd644f1a93dc1ab0a821f8e": {
      "model_module": "@jupyter-widgets/base",
      "model_module_version": "1.2.0",
      "model_name": "LayoutModel",
      "state": {
       "width": "190px"
      }
     },
     "d9cc7f36198f4967beafecb22ce32f32": {
      "model_module": "@jupyter-widgets/base",
      "model_module_version": "1.2.0",
      "model_name": "LayoutModel",
      "state": {
       "max_width": "700px",
       "min_width": "700px"
      }
     },
     "da21131ba2c5453194614ef514fc2e39": {
      "model_module": "@jupyter-widgets/controls",
      "model_module_version": "1.5.0",
      "model_name": "DescriptionStyleModel",
      "state": {
       "description_width": ""
      }
     },
     "db081cf835654376b4582f91f9732d3e": {
      "model_module": "@jupyter-widgets/controls",
      "model_module_version": "1.5.0",
      "model_name": "HBoxModel",
      "state": {
       "children": [
        "IPY_MODEL_c884669db4cc452a876065f80c223a7f",
        "IPY_MODEL_3d713bcc803745de8ff27ec160f7fe77",
        "IPY_MODEL_cc6be62ed92944078c570d22e1ecaeb7",
        "IPY_MODEL_64fa689dd40d4464925b970ae431d5bc",
        "IPY_MODEL_62164ec31937405a8c85e63ef7ea774f",
        "IPY_MODEL_63174b5f1700456d854e081986c2a053"
       ],
       "layout": "IPY_MODEL_5402397e4ebb4a9885682de99a96a359"
      }
     },
     "db19c9a1608c43c1b0eb63d881890119": {
      "model_module": "@jupyter-widgets/controls",
      "model_module_version": "1.5.0",
      "model_name": "DescriptionStyleModel",
      "state": {
       "description_width": ""
      }
     },
     "db678e0ce6d043469204f35e9cbdbf00": {
      "model_module": "@jupyter-widgets/controls",
      "model_module_version": "1.5.0",
      "model_name": "HTMLModel",
      "state": {
       "layout": "IPY_MODEL_5c956e129cc7487da273bb4be9b103f1",
       "style": "IPY_MODEL_9ae99b3bb16e45eaba4deeb0124a22cd",
       "value": "-"
      }
     },
     "dc51892b5c9746d7906e4c6e98025d0d": {
      "model_module": "@jupyter-widgets/controls",
      "model_module_version": "1.5.0",
      "model_name": "DescriptionStyleModel",
      "state": {
       "description_width": ""
      }
     },
     "e1ff61a9ca4449518fbacf68eb17ae77": {
      "model_module": "@jupyter-widgets/controls",
      "model_module_version": "1.5.0",
      "model_name": "HTMLModel",
      "state": {
       "layout": "IPY_MODEL_bd570327ac3643efb6a94126f04df800",
       "style": "IPY_MODEL_b7e8cb72a0cc4e69b26360a72792b28d",
       "value": "-"
      }
     },
     "e33243a6250c4365a54bea1231f52ce9": {
      "model_module": "@jupyter-widgets/controls",
      "model_module_version": "1.5.0",
      "model_name": "HBoxModel",
      "state": {
       "children": [
        "IPY_MODEL_9909c6d7e70941218cb2e7ef136efd6a",
        "IPY_MODEL_11681d46630c4a1e8c7c88d9a285acfb",
        "IPY_MODEL_86958fa0a4384cc9bc66eb15c1563b7e",
        "IPY_MODEL_0db46514069e46a6be58b98c81a624ff",
        "IPY_MODEL_ff3bad7b7dad495d8dea04130e16c93d"
       ],
       "layout": "IPY_MODEL_ba869016d7274f40b6a1f8f26afc82fb"
      }
     },
     "e409070f21f04303990505b61f219fca": {
      "model_module": "@jupyter-widgets/controls",
      "model_module_version": "1.5.0",
      "model_name": "DescriptionStyleModel",
      "state": {
       "description_width": ""
      }
     },
     "e45a4dc7ef704425a0fa49dcc83b1364": {
      "model_module": "@jupyter-widgets/base",
      "model_module_version": "1.2.0",
      "model_name": "LayoutModel",
      "state": {
       "width": "95px"
      }
     },
     "e4739c9394fa4969b98a7d75c17f94f2": {
      "model_module": "@jupyter-widgets/controls",
      "model_module_version": "1.5.0",
      "model_name": "DescriptionStyleModel",
      "state": {
       "description_width": ""
      }
     },
     "e4b501b56fce47f39cad8a1b54d91e43": {
      "model_module": "@jupyter-widgets/controls",
      "model_module_version": "1.5.0",
      "model_name": "ButtonStyleModel",
      "state": {
       "button_color": "white"
      }
     },
     "e7d00844ddc1454ba7e4fecbd504c2f8": {
      "model_module": "@jupyter-widgets/base",
      "model_module_version": "1.2.0",
      "model_name": "LayoutModel",
      "state": {
       "width": "145px"
      }
     },
     "e8a4ed6b76424a2b8e3ac3176ef5e052": {
      "model_module": "@jupyter-widgets/base",
      "model_module_version": "1.2.0",
      "model_name": "LayoutModel",
      "state": {
       "width": "145px"
      }
     },
     "ebcbd64fe8cb405085385c3fb09d167c": {
      "model_module": "@jupyter-widgets/controls",
      "model_module_version": "1.5.0",
      "model_name": "DescriptionStyleModel",
      "state": {
       "description_width": ""
      }
     },
     "ec67ac590b194fda883615eca8fd6274": {
      "model_module": "@jupyter-widgets/base",
      "model_module_version": "1.2.0",
      "model_name": "LayoutModel",
      "state": {
       "width": "190px"
      }
     },
     "ed64a4d3dcf04fef8d43f578e00c93b8": {
      "model_module": "@jupyter-widgets/controls",
      "model_module_version": "1.5.0",
      "model_name": "HTMLModel",
      "state": {
       "layout": "IPY_MODEL_3d281d50f44941bcbd0d48a59c1972d0",
       "style": "IPY_MODEL_c7341f811d5a495e9efe4ed728238fee",
       "value": "ibmq_belem"
      }
     },
     "eded5d78285d42b690e6a1ac39b50b1a": {
      "model_module": "@jupyter-widgets/controls",
      "model_module_version": "1.5.0",
      "model_name": "DescriptionStyleModel",
      "state": {
       "description_width": ""
      }
     },
     "ee5cf4fabc754f438917e9ea4fae3ec9": {
      "model_module": "@jupyter-widgets/controls",
      "model_module_version": "1.5.0",
      "model_name": "DescriptionStyleModel",
      "state": {
       "description_width": ""
      }
     },
     "ef4148eafb5b4ca3b8946a9e2fdbfb0a": {
      "model_module": "@jupyter-widgets/controls",
      "model_module_version": "1.5.0",
      "model_name": "HTMLModel",
      "state": {
       "layout": "IPY_MODEL_f9a6f81b72bf432f99a8db0baa0da521",
       "style": "IPY_MODEL_c8389277d58e48c183fbb354867747d0",
       "value": "<font style='color:#34BC6E'>DONE</font>"
      }
     },
     "f3ca63290174415da9153a1747685a91": {
      "model_module": "@jupyter-widgets/base",
      "model_module_version": "1.2.0",
      "model_name": "LayoutModel",
      "state": {
       "max_width": "700px",
       "min_width": "700px"
      }
     },
     "f7ce9e46cb774ebfb51a2bbc9700c7b6": {
      "model_module": "@jupyter-widgets/controls",
      "model_module_version": "1.5.0",
      "model_name": "HBoxModel",
      "state": {
       "children": [
        "IPY_MODEL_8dd16fcf862b45a1a5d67646102ac3ad",
        "IPY_MODEL_4f1e530d5c914cde8aafe95f68f316fa",
        "IPY_MODEL_9b8bed2e507048e18e9beffe3dde45da",
        "IPY_MODEL_ef4148eafb5b4ca3b8946a9e2fdbfb0a",
        "IPY_MODEL_e1ff61a9ca4449518fbacf68eb17ae77",
        "IPY_MODEL_837b9bcea5154f9c8679285ccfdcbea7"
       ],
       "layout": "IPY_MODEL_f3ca63290174415da9153a1747685a91"
      }
     },
     "f830b94d3f8742798377a8cb60d8aaf3": {
      "model_module": "@jupyter-widgets/controls",
      "model_module_version": "1.5.0",
      "model_name": "DescriptionStyleModel",
      "state": {
       "description_width": ""
      }
     },
     "f9a6f81b72bf432f99a8db0baa0da521": {
      "model_module": "@jupyter-widgets/base",
      "model_module_version": "1.2.0",
      "model_name": "LayoutModel",
      "state": {
       "width": "95px"
      }
     },
     "f9d1a8df47cd483e8ac20a90e496f117": {
      "model_module": "@jupyter-widgets/controls",
      "model_module_version": "1.5.0",
      "model_name": "HTMLModel",
      "state": {
       "layout": "IPY_MODEL_576faf64585f44f48bd98321efe7701d",
       "style": "IPY_MODEL_02c9216e05a549cc89e49b72ec254a7e",
       "value": "ibmq_belem"
      }
     },
     "fb019ea96a494bcfa03a94a8aa73e7d0": {
      "model_module": "@jupyter-widgets/controls",
      "model_module_version": "1.5.0",
      "model_name": "DescriptionStyleModel",
      "state": {
       "description_width": ""
      }
     },
     "fd12cf008c004339b9d8f8187bfb0a7d": {
      "model_module": "@jupyter-widgets/controls",
      "model_module_version": "1.5.0",
      "model_name": "HTMLModel",
      "state": {
       "layout": "IPY_MODEL_d7dccffbbdd644f1a93dc1ab0a821f8e",
       "style": "IPY_MODEL_63dc282c75e3433c985d88f77b188306",
       "value": "6110efb80761794430e0471a"
      }
     },
     "ff3bad7b7dad495d8dea04130e16c93d": {
      "model_module": "@jupyter-widgets/controls",
      "model_module_version": "1.5.0",
      "model_name": "HTMLModel",
      "state": {
       "layout": "IPY_MODEL_26eaea5a33f543239cb74f93c241a48b",
       "style": "IPY_MODEL_724cfd8cd71f4f39ab4dd281c47ffe78",
       "value": "<h5>Message</h5>"
      }
     },
     "ffd4a625ca404606a3d03051d7b6cbb7": {
      "model_module": "@jupyter-widgets/controls",
      "model_module_version": "1.5.0",
      "model_name": "HTMLModel",
      "state": {
       "layout": "IPY_MODEL_e7d00844ddc1454ba7e4fecbd504c2f8",
       "style": "IPY_MODEL_72da93e6edf14b4888aa36c970ade5fe",
       "value": "ibmq_quito"
      }
     }
    },
    "version_major": 2,
    "version_minor": 0
   }
  }
 },
 "nbformat": 4,
 "nbformat_minor": 5
}
